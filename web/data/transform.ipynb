{
 "cells": [
  {
   "cell_type": "code",
   "execution_count": 1,
   "id": "initial_id",
   "metadata": {
    "collapsed": true,
    "ExecuteTime": {
     "end_time": "2023-11-26T01:19:15.371395Z",
     "start_time": "2023-11-26T01:19:15.331349600Z"
    }
   },
   "outputs": [],
   "source": [
    "import csv\n",
    "import json"
   ]
  },
  {
   "cell_type": "code",
   "execution_count": 4,
   "outputs": [],
   "source": [
    "def make_json(csvFilePath, jsonFilePath):\n",
    "    data = {}    \n",
    "    with open(csvFilePath, encoding='utf8') as csvf:\n",
    "        csvReader = csv.DictReader(csvf)                 \n",
    "        for rows in csvReader:            \n",
    "            key = rows['date']\n",
    "            data[key] = rows\n",
    "    with open(jsonFilePath, 'w', encoding='utf8') as jsonf:\n",
    "        jsonf.write(json.dumps(data, indent=4))\n",
    "         \n",
    "csvFilePath = r'rice.csv'\n",
    "jsonFilePath = r'rice.json'\n",
    "make_json(csvFilePath, jsonFilePath)"
   ],
   "metadata": {
    "collapsed": false,
    "ExecuteTime": {
     "end_time": "2023-11-26T01:22:26.276243800Z",
     "start_time": "2023-11-26T01:22:26.234985900Z"
    }
   },
   "id": "24f2641206c4167d"
  }
 ],
 "metadata": {
  "kernelspec": {
   "display_name": "Python 3",
   "language": "python",
   "name": "python3"
  },
  "language_info": {
   "codemirror_mode": {
    "name": "ipython",
    "version": 2
   },
   "file_extension": ".py",
   "mimetype": "text/x-python",
   "name": "python",
   "nbconvert_exporter": "python",
   "pygments_lexer": "ipython2",
   "version": "2.7.6"
  }
 },
 "nbformat": 4,
 "nbformat_minor": 5
}
