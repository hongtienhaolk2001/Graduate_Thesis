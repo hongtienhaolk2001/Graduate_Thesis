{
 "cells": [
  {
   "cell_type": "code",
   "execution_count": 5,
   "metadata": {
    "colab": {
     "base_uri": "https://localhost:8080/"
    },
    "id": "i0iDj_Rz2IAP",
    "outputId": "97d422d9-0ab5-4e9f-c983-a5fbcebce610",
    "ExecuteTime": {
     "end_time": "2023-11-24T10:31:22.001413200Z",
     "start_time": "2023-11-24T10:31:21.177074Z"
    }
   },
   "outputs": [],
   "source": [
    "from CustomSoftmaxModel import CustomModelSoftmax\n",
    "from torchviz import make_dot\n",
    "import torch\n",
    "from torchsummary import summary"
   ]
  },
  {
   "cell_type": "code",
   "execution_count": 3,
   "metadata": {
    "colab": {
     "base_uri": "https://localhost:8080/"
    },
    "id": "lPyNhweW2PbQ",
    "outputId": "623fdcf2-d343-4a05-e355-376195582b84",
    "ExecuteTime": {
     "end_time": "2023-11-24T10:25:02.285524600Z",
     "start_time": "2023-11-24T10:24:51.035793900Z"
    }
   },
   "outputs": [
    {
     "data": {
      "text/plain": "CustomModelSoftmax(\n  (model): RobertaModel(\n    (embeddings): RobertaEmbeddings(\n      (word_embeddings): Embedding(64001, 768, padding_idx=1)\n      (position_embeddings): Embedding(258, 768, padding_idx=1)\n      (token_type_embeddings): Embedding(1, 768)\n      (LayerNorm): LayerNorm((768,), eps=1e-05, elementwise_affine=True)\n      (dropout): Dropout(p=0.1, inplace=False)\n    )\n    (encoder): RobertaEncoder(\n      (layer): ModuleList(\n        (0-11): 12 x RobertaLayer(\n          (attention): RobertaAttention(\n            (self): RobertaSelfAttention(\n              (query): Linear(in_features=768, out_features=768, bias=True)\n              (key): Linear(in_features=768, out_features=768, bias=True)\n              (value): Linear(in_features=768, out_features=768, bias=True)\n              (dropout): Dropout(p=0.1, inplace=False)\n            )\n            (output): RobertaSelfOutput(\n              (dense): Linear(in_features=768, out_features=768, bias=True)\n              (LayerNorm): LayerNorm((768,), eps=1e-05, elementwise_affine=True)\n              (dropout): Dropout(p=0.1, inplace=False)\n            )\n          )\n          (intermediate): RobertaIntermediate(\n            (dense): Linear(in_features=768, out_features=3072, bias=True)\n            (intermediate_act_fn): GELUActivation()\n          )\n          (output): RobertaOutput(\n            (dense): Linear(in_features=3072, out_features=768, bias=True)\n            (LayerNorm): LayerNorm((768,), eps=1e-05, elementwise_affine=True)\n            (dropout): Dropout(p=0.1, inplace=False)\n          )\n        )\n      )\n    )\n    (pooler): RobertaPooler(\n      (dense): Linear(in_features=768, out_features=768, bias=True)\n      (activation): Tanh()\n    )\n  )\n  (dropout): Dropout(p=0.1, inplace=False)\n  (classifier): Linear(in_features=3072, out_features=6, bias=True)\n  (regressor): Linear(in_features=3072, out_features=30, bias=True)\n)"
     },
     "execution_count": 3,
     "metadata": {},
     "output_type": "execute_result"
    }
   ],
   "source": [
    "model = CustomModelSoftmax(\"vinai/phobert-base\")\n",
    "device = 'cuda' if torch.cuda.is_available() else 'cpu'\n",
    "model.to(device)"
   ]
  },
  {
   "cell_type": "code",
   "execution_count": 7,
   "metadata": {
    "colab": {
     "base_uri": "https://localhost:8080/"
    },
    "id": "zPwxCZkRPbO1",
    "outputId": "4b0f02b3-9947-4aed-e9a3-ca7a5adde6b5",
    "ExecuteTime": {
     "end_time": "2023-11-24T10:31:47.756475300Z",
     "start_time": "2023-11-24T10:31:47.684322500Z"
    }
   },
   "outputs": [
    {
     "ename": "TypeError",
     "evalue": "summary() missing 1 required positional argument: 'input_size'",
     "output_type": "error",
     "traceback": [
      "\u001B[1;31m---------------------------------------------------------------------------\u001B[0m",
      "\u001B[1;31mTypeError\u001B[0m                                 Traceback (most recent call last)",
      "Cell \u001B[1;32mIn[7], line 1\u001B[0m\n\u001B[1;32m----> 1\u001B[0m \u001B[43msummary\u001B[49m\u001B[43m(\u001B[49m\u001B[43mmodel\u001B[49m\u001B[43m)\u001B[49m\n",
      "\u001B[1;31mTypeError\u001B[0m: summary() missing 1 required positional argument: 'input_size'"
     ]
    }
   ],
   "source": [
    "summary(model, 140)"
   ]
  },
  {
   "cell_type": "code",
   "execution_count": 1,
   "metadata": {
    "colab": {
     "base_uri": "https://localhost:8080/"
    },
    "id": "z6tajGGbPP46",
    "outputId": "62d74e15-89ae-421c-ad2e-62625d10f681",
    "ExecuteTime": {
     "end_time": "2023-11-24T10:14:13.107144600Z",
     "start_time": "2023-11-24T10:14:04.051577300Z"
    }
   },
   "outputs": [
    {
     "name": "stdout",
     "output_type": "stream",
     "text": [
      "Requirement already satisfied: numpy in d:\\workspace\\github\\graduate_thesis\\venv\\lib\\site-packages (from -r requirements.txt (line 1)) (1.26.0)\n",
      "Requirement already satisfied: torch in d:\\workspace\\github\\graduate_thesis\\venv\\lib\\site-packages (from -r requirements.txt (line 2)) (2.1.0)\n",
      "Requirement already satisfied: transformers in d:\\workspace\\github\\graduate_thesis\\venv\\lib\\site-packages (from -r requirements.txt (line 3)) (4.34.1)\n",
      "Requirement already satisfied: openpyxl==3.1.2 in d:\\workspace\\github\\graduate_thesis\\venv\\lib\\site-packages (from -r requirements.txt (line 4)) (3.1.2)\n",
      "Requirement already satisfied: datasets in d:\\workspace\\github\\graduate_thesis\\venv\\lib\\site-packages (from -r requirements.txt (line 5)) (2.14.6)\n",
      "Requirement already satisfied: vncorenlp in d:\\workspace\\github\\graduate_thesis\\venv\\lib\\site-packages (from -r requirements.txt (line 6)) (1.0.3)\n",
      "Requirement already satisfied: et-xmlfile in d:\\workspace\\github\\graduate_thesis\\venv\\lib\\site-packages (from openpyxl==3.1.2->-r requirements.txt (line 4)) (1.1.0)\n",
      "Requirement already satisfied: filelock in d:\\workspace\\github\\graduate_thesis\\venv\\lib\\site-packages (from torch->-r requirements.txt (line 2)) (3.12.4)\n",
      "Requirement already satisfied: typing-extensions in d:\\workspace\\github\\graduate_thesis\\venv\\lib\\site-packages (from torch->-r requirements.txt (line 2)) (4.8.0)\n",
      "Requirement already satisfied: sympy in d:\\workspace\\github\\graduate_thesis\\venv\\lib\\site-packages (from torch->-r requirements.txt (line 2)) (1.12)\n",
      "Requirement already satisfied: networkx in d:\\workspace\\github\\graduate_thesis\\venv\\lib\\site-packages (from torch->-r requirements.txt (line 2)) (3.2)\n",
      "Requirement already satisfied: jinja2 in d:\\workspace\\github\\graduate_thesis\\venv\\lib\\site-packages (from torch->-r requirements.txt (line 2)) (3.1.2)\n",
      "Requirement already satisfied: fsspec in d:\\workspace\\github\\graduate_thesis\\venv\\lib\\site-packages (from torch->-r requirements.txt (line 2)) (2023.10.0)\n",
      "Requirement already satisfied: huggingface-hub<1.0,>=0.16.4 in d:\\workspace\\github\\graduate_thesis\\venv\\lib\\site-packages (from transformers->-r requirements.txt (line 3)) (0.17.3)\n",
      "Requirement already satisfied: packaging>=20.0 in d:\\workspace\\github\\graduate_thesis\\venv\\lib\\site-packages (from transformers->-r requirements.txt (line 3)) (23.1)\n",
      "Requirement already satisfied: pyyaml>=5.1 in d:\\workspace\\github\\graduate_thesis\\venv\\lib\\site-packages (from transformers->-r requirements.txt (line 3)) (6.0.1)\n",
      "Requirement already satisfied: regex!=2019.12.17 in d:\\workspace\\github\\graduate_thesis\\venv\\lib\\site-packages (from transformers->-r requirements.txt (line 3)) (2023.10.3)\n",
      "Requirement already satisfied: requests in d:\\workspace\\github\\graduate_thesis\\venv\\lib\\site-packages (from transformers->-r requirements.txt (line 3)) (2.31.0)\n",
      "Requirement already satisfied: tokenizers<0.15,>=0.14 in d:\\workspace\\github\\graduate_thesis\\venv\\lib\\site-packages (from transformers->-r requirements.txt (line 3)) (0.14.1)\n",
      "Requirement already satisfied: safetensors>=0.3.1 in d:\\workspace\\github\\graduate_thesis\\venv\\lib\\site-packages (from transformers->-r requirements.txt (line 3)) (0.4.0)\n",
      "Requirement already satisfied: tqdm>=4.27 in d:\\workspace\\github\\graduate_thesis\\venv\\lib\\site-packages (from transformers->-r requirements.txt (line 3)) (4.66.1)\n",
      "Requirement already satisfied: pyarrow>=8.0.0 in d:\\workspace\\github\\graduate_thesis\\venv\\lib\\site-packages (from datasets->-r requirements.txt (line 5)) (14.0.0)\n",
      "Requirement already satisfied: dill<0.3.8,>=0.3.0 in d:\\workspace\\github\\graduate_thesis\\venv\\lib\\site-packages (from datasets->-r requirements.txt (line 5)) (0.3.7)\n",
      "Requirement already satisfied: pandas in d:\\workspace\\github\\graduate_thesis\\venv\\lib\\site-packages (from datasets->-r requirements.txt (line 5)) (2.1.1)\n",
      "Requirement already satisfied: xxhash in d:\\workspace\\github\\graduate_thesis\\venv\\lib\\site-packages (from datasets->-r requirements.txt (line 5)) (3.4.1)\n",
      "Requirement already satisfied: multiprocess in d:\\workspace\\github\\graduate_thesis\\venv\\lib\\site-packages (from datasets->-r requirements.txt (line 5)) (0.70.15)\n",
      "Requirement already satisfied: aiohttp in d:\\workspace\\github\\graduate_thesis\\venv\\lib\\site-packages (from datasets->-r requirements.txt (line 5)) (3.8.6)\n",
      "Requirement already satisfied: attrs>=17.3.0 in d:\\workspace\\github\\graduate_thesis\\venv\\lib\\site-packages (from aiohttp->datasets->-r requirements.txt (line 5)) (23.1.0)\n",
      "Requirement already satisfied: charset-normalizer<4.0,>=2.0 in d:\\workspace\\github\\graduate_thesis\\venv\\lib\\site-packages (from aiohttp->datasets->-r requirements.txt (line 5)) (3.2.0)\n",
      "Requirement already satisfied: multidict<7.0,>=4.5 in d:\\workspace\\github\\graduate_thesis\\venv\\lib\\site-packages (from aiohttp->datasets->-r requirements.txt (line 5)) (6.0.4)\n",
      "Requirement already satisfied: async-timeout<5.0,>=4.0.0a3 in d:\\workspace\\github\\graduate_thesis\\venv\\lib\\site-packages (from aiohttp->datasets->-r requirements.txt (line 5)) (4.0.3)\n",
      "Requirement already satisfied: yarl<2.0,>=1.0 in d:\\workspace\\github\\graduate_thesis\\venv\\lib\\site-packages (from aiohttp->datasets->-r requirements.txt (line 5)) (1.9.2)\n",
      "Requirement already satisfied: frozenlist>=1.1.1 in d:\\workspace\\github\\graduate_thesis\\venv\\lib\\site-packages (from aiohttp->datasets->-r requirements.txt (line 5)) (1.4.0)\n",
      "Requirement already satisfied: aiosignal>=1.1.2 in d:\\workspace\\github\\graduate_thesis\\venv\\lib\\site-packages (from aiohttp->datasets->-r requirements.txt (line 5)) (1.3.1)\n",
      "Requirement already satisfied: idna<4,>=2.5 in d:\\workspace\\github\\graduate_thesis\\venv\\lib\\site-packages (from requests->transformers->-r requirements.txt (line 3)) (3.4)\n",
      "Requirement already satisfied: urllib3<3,>=1.21.1 in d:\\workspace\\github\\graduate_thesis\\venv\\lib\\site-packages (from requests->transformers->-r requirements.txt (line 3)) (2.0.5)\n",
      "Requirement already satisfied: certifi>=2017.4.17 in d:\\workspace\\github\\graduate_thesis\\venv\\lib\\site-packages (from requests->transformers->-r requirements.txt (line 3)) (2023.7.22)\n",
      "Requirement already satisfied: colorama in d:\\workspace\\github\\graduate_thesis\\venv\\lib\\site-packages (from tqdm>=4.27->transformers->-r requirements.txt (line 3)) (0.4.6)\n",
      "Requirement already satisfied: MarkupSafe>=2.0 in d:\\workspace\\github\\graduate_thesis\\venv\\lib\\site-packages (from jinja2->torch->-r requirements.txt (line 2)) (2.1.3)\n",
      "Requirement already satisfied: python-dateutil>=2.8.2 in d:\\workspace\\github\\graduate_thesis\\venv\\lib\\site-packages (from pandas->datasets->-r requirements.txt (line 5)) (2.8.2)\n",
      "Requirement already satisfied: pytz>=2020.1 in d:\\workspace\\github\\graduate_thesis\\venv\\lib\\site-packages (from pandas->datasets->-r requirements.txt (line 5)) (2023.3.post1)\n",
      "Requirement already satisfied: tzdata>=2022.1 in d:\\workspace\\github\\graduate_thesis\\venv\\lib\\site-packages (from pandas->datasets->-r requirements.txt (line 5)) (2023.3)\n",
      "Requirement already satisfied: mpmath>=0.19 in d:\\workspace\\github\\graduate_thesis\\venv\\lib\\site-packages (from sympy->torch->-r requirements.txt (line 2)) (1.3.0)\n",
      "Requirement already satisfied: six>=1.5 in d:\\workspace\\github\\graduate_thesis\\venv\\lib\\site-packages (from python-dateutil>=2.8.2->pandas->datasets->-r requirements.txt (line 5)) (1.16.0)\n"
     ]
    }
   ],
   "source": []
  },
  {
   "cell_type": "code",
   "execution_count": 1,
   "metadata": {
    "colab": {
     "base_uri": "https://localhost:8080/"
    },
    "id": "jbqURZoKPVLc",
    "outputId": "64b76ccb-cebc-4190-cc66-c39c2b70bd99",
    "ExecuteTime": {
     "end_time": "2023-11-24T10:14:13.118382700Z",
     "start_time": "2023-11-24T10:14:13.107144600Z"
    }
   },
   "outputs": [],
   "source": []
  },
  {
   "cell_type": "code",
   "execution_count": 1,
   "outputs": [
    {
     "data": {
      "text/plain": "  0%|          | 0/20 [00:00<?, ?it/s]",
      "application/vnd.jupyter.widget-view+json": {
       "version_major": 2,
       "version_minor": 0,
       "model_id": "17e5b5763a0342fa99942411b038ceec"
      }
     },
     "metadata": {},
     "output_type": "display_data"
    },
    {
     "name": "stdout",
     "output_type": "stream",
     "text": [
      "0\n",
      "1\n",
      "2\n",
      "3\n",
      "4\n",
      "5\n",
      "6\n",
      "7\n",
      "8\n",
      "9\n",
      "10\n",
      "11\n",
      "12\n",
      "13\n",
      "14\n",
      "15\n",
      "16\n",
      "17\n",
      "18\n",
      "19\n"
     ]
    }
   ],
   "source": [
    "epochs = 20\n",
    "from tqdm.auto import tqdm\n",
    "for epoch in tqdm(range(epochs)):\n",
    "    print(epoch)"
   ],
   "metadata": {
    "collapsed": false,
    "ExecuteTime": {
     "end_time": "2023-11-28T09:55:54.394214300Z",
     "start_time": "2023-11-28T09:55:54.034510900Z"
    }
   }
  },
  {
   "cell_type": "code",
   "execution_count": 1,
   "outputs": [],
   "source": [],
   "metadata": {
    "collapsed": false,
    "ExecuteTime": {
     "end_time": "2023-11-24T10:14:13.126426900Z",
     "start_time": "2023-11-24T10:14:13.115835600Z"
    }
   }
  }
 ],
 "metadata": {
  "accelerator": "GPU",
  "colab": {
   "provenance": []
  },
  "gpuClass": "standard",
  "kernelspec": {
   "display_name": "Python 3 (ipykernel)",
   "language": "python",
   "name": "python3"
  },
  "language_info": {
   "codemirror_mode": {
    "name": "ipython",
    "version": 3
   },
   "file_extension": ".py",
   "mimetype": "text/x-python",
   "name": "python",
   "nbconvert_exporter": "python",
   "pygments_lexer": "ipython3",
   "version": "3.11.4"
  }
 },
 "nbformat": 4,
 "nbformat_minor": 4
}
