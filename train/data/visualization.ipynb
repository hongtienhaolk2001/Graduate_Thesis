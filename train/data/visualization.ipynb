{
 "cells": [
  {
   "cell_type": "code",
   "execution_count": 1,
   "id": "initial_id",
   "metadata": {
    "collapsed": true,
    "ExecuteTime": {
     "end_time": "2023-11-25T16:12:37.145989900Z",
     "start_time": "2023-11-25T16:12:34.920526800Z"
    }
   },
   "outputs": [],
   "source": [
    "import matplotlib.pyplot as plt\n",
    "import numpy as np\n",
    "import pandas as pd"
   ]
  },
  {
   "cell_type": "markdown",
   "source": [
    "# Data after Labeling"
   ],
   "metadata": {
    "collapsed": false
   },
   "id": "1bd101cefa233ff"
  },
  {
   "cell_type": "code",
   "execution_count": 70,
   "outputs": [
    {
     "name": "stdout",
     "output_type": "stream",
     "text": [
      "samples: 3544\n"
     ]
    },
    {
     "data": {
      "text/plain": "<Figure size 640x480 with 6 Axes>",
      "image/png": "[encoded data removed]"
     },
     "metadata": {},
     "output_type": "display_data"
    }
   ],
   "source": [
    "df = pd.read_csv(\"./original_data/original_data.csv\")\n",
    "df = df[['category', 'price', 'gov', 'market', 'intrinsic', 'extrinsic']]\n",
    "# non_numeric_mask = df['intrinsic'].str.isnumeric()\n",
    "# non_numeric_rows = df[~non_numeric_mask]\n",
    "# print(non_numeric_rows)\n",
    "print(f\"samples: {len(df)}\")\n",
    "hist = df.hist(bins=4, sharex=True, layout=(2,3))"
   ],
   "metadata": {
    "collapsed": false,
    "ExecuteTime": {
     "end_time": "2023-11-23T17:17:10.834665400Z",
     "start_time": "2023-11-23T17:17:08.819971100Z"
    }
   },
   "id": "3b615557a132017f"
  },
  {
   "cell_type": "code",
   "execution_count": null,
   "outputs": [],
   "source": [
    "# df = pd.read_csv('./raw_data/rice.csv')\n",
    "# df.head()"
   ],
   "metadata": {
    "collapsed": false
   },
   "id": "d87571a86b09cd56"
  },
  {
   "cell_type": "code",
   "execution_count": null,
   "outputs": [],
   "source": [
    "# df = pd.read_csv('./raw_data/rice.csv')\n",
    "# timestamps = pd.to_datetime(df['date'],format='%d | %m | %Y')\n",
    "# new_timestamps = []\n",
    "# for date in timestamps:\n",
    "#     new_timestamps.append(100000*date.year + date.month*1000 + date.day*10)\n",
    "# df['date'] = new_timestamps\n",
    "# pd.to_datetime(df['date'][0],format='%Y%m%d')"
   ],
   "metadata": {
    "collapsed": false
   },
   "id": "d4f3c5c1d797e365"
  },
  {
   "cell_type": "markdown",
   "source": [
    "# BERT Embedding"
   ],
   "metadata": {
    "collapsed": false
   },
   "id": "a1bc2ce03c9cbd"
  },
  {
   "cell_type": "code",
   "outputs": [],
   "source": [
    "from transformers import AutoTokenizer, DataCollatorWithPadding, BertModel, BertTokenizer\n",
    "from vncorenlp import VnCoreNLP"
   ],
   "metadata": {
    "collapsed": false,
    "ExecuteTime": {
     "end_time": "2024-01-06T03:13:30.679093300Z",
     "start_time": "2024-01-06T03:13:21.224846Z"
    }
   },
   "id": "f03911bcf9aa079",
   "execution_count": 1
  },
  {
   "cell_type": "code",
   "outputs": [],
   "source": [
    "rdrsegmenter = VnCoreNLP(\"../preprocessing/vncorenlp/VnCoreNLP-1.1.1.jar\",\n",
    "                         annotators=\"wseg\", max_heap_size='-Xmx500m')\n",
    "tokenizer = AutoTokenizer.from_pretrained(\"vinai/phobert-base\")\n",
    "text = \"vua có giới tính đàn ông, còn hoàng hậu là phụ nữ\""
   ],
   "metadata": {
    "collapsed": false,
    "ExecuteTime": {
     "end_time": "2024-01-06T03:13:35.938861Z",
     "start_time": "2024-01-06T03:13:30.681068300Z"
    }
   },
   "id": "a53a49586de18a75",
   "execution_count": 2
  },
  {
   "cell_type": "code",
   "outputs": [
    {
     "data": {
      "text/plain": "['vua', 'có', 'giới_tính', 'đàn_ông', ',', 'còn', 'hoàng_hậu', 'là', 'phụ_nữ']"
     },
     "execution_count": 3,
     "metadata": {},
     "output_type": "execute_result"
    }
   ],
   "source": [
    "output = rdrsegmenter.tokenize(text)\n",
    "output[0]"
   ],
   "metadata": {
    "collapsed": false,
    "ExecuteTime": {
     "end_time": "2024-01-06T03:13:36.041558800Z",
     "start_time": "2024-01-06T03:13:35.937854100Z"
    }
   },
   "id": "b78c15d28654b42",
   "execution_count": 3
  },
  {
   "cell_type": "code",
   "outputs": [
    {
     "data": {
      "text/plain": "{'input_ids': [[0, 1692, 2], [0, 10, 2], [0, 4462, 2], [0, 651, 2], [0, 4, 2], [0, 50, 2], [0, 11185, 2], [0, 8, 2], [0, 419, 2]], 'token_type_ids': [[0, 0, 0], [0, 0, 0], [0, 0, 0], [0, 0, 0], [0, 0, 0], [0, 0, 0], [0, 0, 0], [0, 0, 0], [0, 0, 0]], 'attention_mask': [[1, 1, 1], [1, 1, 1], [1, 1, 1], [1, 1, 1], [1, 1, 1], [1, 1, 1], [1, 1, 1], [1, 1, 1], [1, 1, 1]]}"
     },
     "execution_count": 4,
     "metadata": {},
     "output_type": "execute_result"
    }
   ],
   "source": [
    "tokenizer(output[0], truncation=True)"
   ],
   "metadata": {
    "collapsed": false,
    "ExecuteTime": {
     "end_time": "2024-01-06T03:13:36.064389200Z",
     "start_time": "2024-01-06T03:13:36.014221700Z"
    }
   },
   "id": "c312bcf3ffe6a9a0",
   "execution_count": 4
  },
  {
   "cell_type": "markdown",
   "source": [
    "- vua: 1692\n",
    "- đàn ông: 651\n",
    "- hoàng hậu: 11185\n",
    "- phụ nữ: 419"
   ],
   "metadata": {
    "collapsed": false
   },
   "id": "4a9214a5b9ba017f"
  },
  {
   "cell_type": "code",
   "outputs": [
    {
     "data": {
      "text/plain": "419"
     },
     "execution_count": 5,
     "metadata": {},
     "output_type": "execute_result"
    }
   ],
   "source": [
    "data_collator = DataCollatorWithPadding(tokenizer=tokenizer)\n",
    "# data_collator.tokenizer\n",
    "data_collator.tokenizer.get_vocab()['phụ_nữ']"
   ],
   "metadata": {
    "collapsed": false,
    "ExecuteTime": {
     "end_time": "2024-01-06T03:13:36.251383700Z",
     "start_time": "2024-01-06T03:13:36.036547100Z"
    }
   },
   "id": "f4b4893007331386",
   "execution_count": 5
  },
  {
   "cell_type": "code",
   "outputs": [],
   "source": [
    "# bert_model = BertModel.from_pretrained('vinai/phobert-base')\n",
    "# configuration = bert_model.config\n",
    "# configuration"
   ],
   "metadata": {
    "collapsed": false,
    "ExecuteTime": {
     "end_time": "2024-01-06T03:13:36.282387700Z",
     "start_time": "2024-01-06T03:13:36.061370400Z"
    }
   },
   "id": "bf4e411a321a0350",
   "execution_count": 6
  },
  {
   "cell_type": "code",
   "outputs": [
    {
     "name": "stderr",
     "output_type": "stream",
     "text": [
      "You are using a model of type roberta to instantiate a model of type bert. This is not supported for all configurations of models and can yield errors.\n",
      "Some weights of BertModel were not initialized from the model checkpoint at vinai/phobert-base and are newly initialized: ['encoder.layer.3.attention.self.query.bias', 'encoder.layer.7.attention.self.value.bias', 'encoder.layer.7.attention.self.query.bias', 'encoder.layer.7.attention.self.value.weight', 'encoder.layer.0.attention.self.value.bias', 'encoder.layer.6.output.dense.bias', 'pooler.dense.weight', 'encoder.layer.7.output.LayerNorm.bias', 'encoder.layer.6.attention.output.dense.weight', 'encoder.layer.1.output.dense.weight', 'encoder.layer.8.attention.self.value.weight', 'encoder.layer.4.intermediate.dense.weight', 'encoder.layer.4.attention.output.LayerNorm.weight', 'encoder.layer.5.output.LayerNorm.bias', 'encoder.layer.4.attention.self.value.bias', 'encoder.layer.9.output.dense.bias', 'encoder.layer.7.output.dense.bias', 'encoder.layer.10.attention.self.value.weight', 'encoder.layer.2.attention.self.query.weight', 'encoder.layer.5.intermediate.dense.weight', 'embeddings.token_type_embeddings.weight', 'encoder.layer.10.output.dense.weight', 'encoder.layer.4.attention.output.dense.bias', 'encoder.layer.11.output.dense.weight', 'encoder.layer.0.attention.self.key.bias', 'encoder.layer.2.intermediate.dense.weight', 'encoder.layer.4.attention.self.query.weight', 'encoder.layer.5.intermediate.dense.bias', 'encoder.layer.5.attention.self.key.weight', 'encoder.layer.2.output.LayerNorm.bias', 'encoder.layer.7.intermediate.dense.bias', 'encoder.layer.9.attention.output.LayerNorm.weight', 'encoder.layer.0.attention.output.LayerNorm.weight', 'encoder.layer.3.attention.self.query.weight', 'encoder.layer.9.attention.self.key.bias', 'encoder.layer.8.output.dense.bias', 'encoder.layer.8.intermediate.dense.weight', 'encoder.layer.11.attention.output.dense.weight', 'encoder.layer.3.intermediate.dense.bias', 'encoder.layer.10.intermediate.dense.weight', 'encoder.layer.1.attention.self.key.weight', 'encoder.layer.7.output.LayerNorm.weight', 'encoder.layer.1.intermediate.dense.weight', 'embeddings.LayerNorm.weight', 'encoder.layer.8.output.LayerNorm.weight', 'encoder.layer.10.attention.output.LayerNorm.weight', 'encoder.layer.2.attention.self.key.weight', 'encoder.layer.10.attention.self.key.weight', 'encoder.layer.4.output.dense.weight', 'encoder.layer.7.attention.output.dense.weight', 'encoder.layer.0.intermediate.dense.bias', 'encoder.layer.0.attention.self.key.weight', 'encoder.layer.2.attention.output.LayerNorm.weight', 'encoder.layer.3.attention.self.key.weight', 'encoder.layer.10.output.LayerNorm.bias', 'encoder.layer.2.attention.output.dense.bias', 'encoder.layer.8.output.LayerNorm.bias', 'encoder.layer.0.attention.output.dense.weight', 'encoder.layer.9.attention.self.key.weight', 'encoder.layer.4.attention.self.key.weight', 'encoder.layer.6.attention.output.LayerNorm.weight', 'encoder.layer.11.intermediate.dense.bias', 'encoder.layer.3.output.dense.weight', 'encoder.layer.0.output.LayerNorm.bias', 'encoder.layer.1.attention.output.dense.bias', 'encoder.layer.2.attention.output.dense.weight', 'encoder.layer.11.attention.output.dense.bias', 'encoder.layer.4.attention.self.value.weight', 'encoder.layer.4.attention.output.dense.weight', 'encoder.layer.7.intermediate.dense.weight', 'encoder.layer.2.intermediate.dense.bias', 'encoder.layer.9.attention.output.LayerNorm.bias', 'encoder.layer.1.output.dense.bias', 'encoder.layer.8.attention.self.query.bias', 'encoder.layer.10.intermediate.dense.bias', 'encoder.layer.10.attention.output.dense.weight', 'encoder.layer.8.attention.self.value.bias', 'encoder.layer.3.attention.self.value.weight', 'encoder.layer.3.attention.output.LayerNorm.weight', 'encoder.layer.5.attention.self.value.weight', 'encoder.layer.11.attention.self.query.weight', 'encoder.layer.1.output.LayerNorm.weight', 'encoder.layer.2.attention.self.value.weight', 'pooler.dense.bias', 'encoder.layer.10.attention.output.dense.bias', 'encoder.layer.0.output.dense.weight', 'encoder.layer.9.attention.self.query.weight', 'encoder.layer.10.attention.self.key.bias', 'encoder.layer.1.output.LayerNorm.bias', 'encoder.layer.5.attention.self.key.bias', 'encoder.layer.9.output.LayerNorm.bias', 'encoder.layer.4.attention.self.query.bias', 'encoder.layer.11.attention.output.LayerNorm.bias', 'encoder.layer.5.attention.self.value.bias', 'encoder.layer.6.attention.self.query.weight', 'encoder.layer.5.attention.output.dense.bias', 'encoder.layer.6.output.LayerNorm.weight', 'encoder.layer.3.attention.self.value.bias', 'encoder.layer.9.attention.self.value.bias', 'encoder.layer.10.attention.self.value.bias', 'encoder.layer.8.attention.self.key.weight', 'encoder.layer.10.attention.output.LayerNorm.bias', 'encoder.layer.5.attention.self.query.weight', 'encoder.layer.10.output.LayerNorm.weight', 'encoder.layer.11.output.LayerNorm.bias', 'encoder.layer.4.attention.self.key.bias', 'encoder.layer.9.attention.output.dense.bias', 'encoder.layer.11.attention.output.LayerNorm.weight', 'encoder.layer.11.output.dense.bias', 'encoder.layer.6.output.dense.weight', 'encoder.layer.2.output.dense.bias', 'encoder.layer.0.intermediate.dense.weight', 'encoder.layer.0.output.dense.bias', 'encoder.layer.4.output.LayerNorm.weight', 'encoder.layer.7.attention.self.query.weight', 'encoder.layer.7.attention.output.LayerNorm.bias', 'encoder.layer.1.attention.self.value.bias', 'encoder.layer.2.output.LayerNorm.weight', 'encoder.layer.0.attention.output.dense.bias', 'encoder.layer.8.attention.output.LayerNorm.weight', 'encoder.layer.7.attention.self.key.bias', 'encoder.layer.9.attention.self.query.bias', 'encoder.layer.4.intermediate.dense.bias', 'encoder.layer.4.attention.output.LayerNorm.bias', 'encoder.layer.1.attention.output.dense.weight', 'encoder.layer.3.attention.output.dense.weight', 'encoder.layer.2.attention.output.LayerNorm.bias', 'encoder.layer.4.output.dense.bias', 'encoder.layer.11.attention.self.value.weight', 'encoder.layer.6.attention.output.dense.bias', 'encoder.layer.3.output.dense.bias', 'encoder.layer.3.output.LayerNorm.bias', 'encoder.layer.9.output.LayerNorm.weight', 'encoder.layer.5.attention.output.LayerNorm.weight', 'encoder.layer.7.attention.output.dense.bias', 'embeddings.position_embeddings.weight', 'encoder.layer.9.attention.self.value.weight', 'encoder.layer.7.attention.self.key.weight', 'encoder.layer.5.attention.output.LayerNorm.bias', 'encoder.layer.1.attention.self.query.bias', 'encoder.layer.6.attention.self.key.bias', 'encoder.layer.0.attention.self.query.bias', 'encoder.layer.1.intermediate.dense.bias', 'encoder.layer.9.attention.output.dense.weight', 'encoder.layer.6.attention.self.key.weight', 'encoder.layer.6.attention.self.value.weight', 'encoder.layer.8.attention.output.dense.bias', 'encoder.layer.11.attention.self.key.bias', 'encoder.layer.3.attention.self.key.bias', 'encoder.layer.6.intermediate.dense.weight', 'encoder.layer.8.attention.output.dense.weight', 'encoder.layer.0.attention.output.LayerNorm.bias', 'encoder.layer.1.attention.self.query.weight', 'encoder.layer.1.attention.self.key.bias', 'encoder.layer.1.attention.output.LayerNorm.weight', 'encoder.layer.6.attention.self.value.bias', 'encoder.layer.6.intermediate.dense.bias', 'encoder.layer.1.attention.output.LayerNorm.bias', 'encoder.layer.8.attention.output.LayerNorm.bias', 'encoder.layer.2.output.dense.weight', 'encoder.layer.3.output.LayerNorm.weight', 'encoder.layer.11.intermediate.dense.weight', 'encoder.layer.6.attention.self.query.bias', 'encoder.layer.11.attention.self.key.weight', 'encoder.layer.2.attention.self.value.bias', 'encoder.layer.8.output.dense.weight', 'encoder.layer.3.attention.output.LayerNorm.bias', 'encoder.layer.5.output.LayerNorm.weight', 'encoder.layer.9.output.dense.weight', 'encoder.layer.10.output.dense.bias', 'encoder.layer.6.output.LayerNorm.bias', 'encoder.layer.0.attention.self.value.weight', 'encoder.layer.11.attention.self.query.bias', 'encoder.layer.2.attention.self.key.bias', 'encoder.layer.7.attention.output.LayerNorm.weight', 'encoder.layer.7.output.dense.weight', 'encoder.layer.3.intermediate.dense.weight', 'embeddings.word_embeddings.weight', 'encoder.layer.5.attention.output.dense.weight', 'encoder.layer.3.attention.output.dense.bias', 'encoder.layer.4.output.LayerNorm.bias', 'encoder.layer.5.output.dense.bias', 'encoder.layer.11.attention.self.value.bias', 'encoder.layer.9.intermediate.dense.weight', 'encoder.layer.0.output.LayerNorm.weight', 'encoder.layer.0.attention.self.query.weight', 'encoder.layer.8.attention.self.key.bias', 'encoder.layer.11.output.LayerNorm.weight', 'encoder.layer.5.attention.self.query.bias', 'encoder.layer.1.attention.self.value.weight', 'encoder.layer.9.intermediate.dense.bias', 'embeddings.LayerNorm.bias', 'encoder.layer.2.attention.self.query.bias', 'encoder.layer.8.intermediate.dense.bias', 'encoder.layer.8.attention.self.query.weight', 'encoder.layer.10.attention.self.query.bias', 'encoder.layer.10.attention.self.query.weight', 'encoder.layer.5.output.dense.weight', 'encoder.layer.6.attention.output.LayerNorm.bias']\n",
      "You should probably TRAIN this model on a down-stream task to be able to use it for predictions and inference.\n"
     ]
    }
   ],
   "source": [
    "model = BertModel.from_pretrained(\"vinai/phobert-base\")"
   ],
   "metadata": {
    "collapsed": false,
    "ExecuteTime": {
     "end_time": "2024-01-06T03:13:43.887614200Z",
     "start_time": "2024-01-06T03:13:36.072390200Z"
    }
   },
   "id": "8cf24f8a9ba6d0dd",
   "execution_count": 7
  },
  {
   "cell_type": "code",
   "outputs": [
    {
     "data": {
      "text/plain": "BertEmbeddings(\n  (word_embeddings): Embedding(64001, 768, padding_idx=1)\n  (position_embeddings): Embedding(258, 768)\n  (token_type_embeddings): Embedding(1, 768)\n  (LayerNorm): LayerNorm((768,), eps=1e-05, elementwise_affine=True)\n  (dropout): Dropout(p=0.1, inplace=False)\n)"
     },
     "execution_count": 8,
     "metadata": {},
     "output_type": "execute_result"
    }
   ],
   "source": [
    "model.embeddings"
   ],
   "metadata": {
    "collapsed": false,
    "ExecuteTime": {
     "end_time": "2024-01-06T03:13:43.966667200Z",
     "start_time": "2024-01-06T03:13:43.885595Z"
    }
   },
   "id": "20f29fc3759a6d4",
   "execution_count": 8
  },
  {
   "cell_type": "code",
   "outputs": [],
   "source": [
    "import numpy as np\n",
    "from numpy.linalg import norm\n",
    "man = model.embeddings.word_embeddings.weight[651].detach().numpy()\n",
    "king = model.embeddings.word_embeddings.weight[1692].detach().numpy()\n",
    "queen = model.embeddings.word_embeddings.weight[11185].detach().numpy()\n",
    "woman = model.embeddings.word_embeddings.weight[419].detach().numpy()"
   ],
   "metadata": {
    "collapsed": false,
    "ExecuteTime": {
     "end_time": "2024-01-06T03:13:43.968626400Z",
     "start_time": "2024-01-06T03:13:43.910151300Z"
    }
   },
   "id": "1fbaa3d7189f8b6",
   "execution_count": 9
  },
  {
   "cell_type": "code",
   "outputs": [],
   "source": [
    "# cos_sim = np.dot(king, queen)/(norm(king)*norm(queen))\n",
    "# cos_sim"
   ],
   "metadata": {
    "collapsed": false,
    "ExecuteTime": {
     "end_time": "2024-01-06T03:13:44.042626300Z",
     "start_time": "2024-01-06T03:13:43.929919500Z"
    }
   },
   "id": "77f8f2724d49d1eb",
   "execution_count": 10
  },
  {
   "cell_type": "code",
   "outputs": [
    {
     "data": {
      "text/plain": "array([-2.99075004e-02,  2.78803316e-04, -1.13089057e-02,  1.74310748e-02,\n       -1.43852076e-02,  2.28759069e-02, -2.44010123e-03, -2.54052822e-02,\n        1.69816297e-02,  5.46975760e-03,  3.37390900e-02,  3.20774410e-03,\n       -1.18448967e-02, -4.17382047e-02,  1.27634354e-04, -1.74940918e-02,\n        4.79627820e-03, -1.57194640e-02, -3.72211561e-02,  1.41682513e-02,\n       -1.71492770e-02,  1.68127511e-02, -7.00355740e-03,  8.96670949e-03,\n        1.40545210e-02, -2.95015681e-03, -2.64082216e-02,  7.15070963e-03,\n        4.49410686e-03, -6.40965439e-03, -2.78113279e-02, -2.11023018e-02,\n       -1.26249976e-02,  6.15689252e-03,  1.19864307e-02,  2.03175321e-02,\n       -2.45040059e-02, -2.16440931e-02, -2.18834877e-02,  1.84671152e-02,\n       -1.16356909e-02, -1.14706717e-02, -4.97890264e-03, -1.51771568e-02,\n       -1.38504524e-02, -3.55426222e-03, -4.91297394e-02,  7.18437647e-03,\n       -1.36446173e-03, -3.76212969e-02, -1.51692296e-03, -2.61069965e-02,\n       -3.70609909e-02, -3.19974348e-02, -1.25341183e-02,  1.99666191e-02,\n       -2.73983013e-02,  1.15362974e-02,  2.05808040e-02, -3.72247631e-03,\n        1.50937317e-02, -2.09463425e-02,  1.79455671e-02, -1.26458555e-02,\n       -3.14274657e-04,  9.36087221e-03,  2.08486035e-03, -1.33140897e-02,\n        6.67142158e-04,  3.08799352e-02, -2.52960585e-02,  1.88306514e-02,\n       -7.99794775e-03,  4.90953540e-03, -2.56386269e-02, -2.32413737e-03,\n       -9.27408924e-04, -1.80282549e-03, -3.62931229e-02, -2.37952154e-02,\n        1.85567196e-02,  2.61514131e-02,  6.58593467e-03,  4.16384777e-03,\n       -1.25518376e-02, -8.69881175e-03,  1.75157730e-02, -7.61921797e-03,\n       -2.01437380e-02, -1.47119276e-02,  5.41400304e-03,  3.79772596e-02,\n        1.88600253e-02, -2.06285398e-02, -4.79677133e-02, -8.06312356e-03,\n        2.20060423e-02, -3.08659306e-04, -1.42353373e-02,  2.22810898e-02,\n       -5.60644129e-03,  1.20170945e-02, -1.48854600e-02, -7.87176844e-03,\n        8.64205416e-03, -1.75114013e-02, -1.12664336e-02,  2.91669625e-03,\n        1.39630623e-02,  2.68980482e-04,  1.24986302e-02,  3.09028756e-02,\n       -3.53092030e-02,  1.55194057e-02,  1.05933854e-02, -9.95135121e-03,\n        1.48163745e-02, -8.78479856e-04, -2.67898734e-03, -1.02904043e-03,\n        6.89639151e-03, -1.88938342e-02,  2.02927403e-02, -4.63041328e-02,\n        3.82635323e-03, -2.97424421e-02,  4.12795953e-02,  3.34022823e-03,\n       -2.72941634e-05, -9.66560654e-03, -2.82169878e-02, -2.45599281e-02,\n        5.86916087e-03, -2.02052519e-02,  3.45273092e-02, -1.32146245e-02,\n        1.06268572e-02, -8.12587794e-03, -1.77349132e-02,  5.00818305e-02,\n       -4.15616343e-03,  2.12452747e-02,  5.83842816e-03, -1.95281915e-02,\n       -3.35002914e-02, -2.34347600e-02,  7.01277936e-03, -2.96319239e-02,\n        8.44418071e-03, -3.45646404e-02,  2.77821533e-02, -4.73580556e-03,\n        3.65907489e-03, -1.43251950e-02, -2.07202928e-03, -2.49507446e-02,\n       -3.39012183e-02, -3.38757187e-02, -8.67228396e-03, -7.46983057e-03,\n        2.05079876e-02, -2.77309446e-03,  7.23526580e-03,  1.42764756e-02,\n        5.28316770e-04,  6.78378437e-03,  9.59967356e-03,  4.05004844e-02,\n        2.37099864e-02, -2.64699813e-02, -4.48824978e-03,  9.70440544e-03,\n        1.46186538e-02, -8.41009058e-03, -3.29525843e-02,  2.16511954e-02,\n       -4.86650912e-04, -2.15389635e-02, -1.29701169e-02,  1.35609703e-02,\n        2.13816501e-02,  3.27006467e-02,  1.51279466e-02,  2.09059026e-02,\n       -3.06925382e-02,  6.50753267e-03, -1.48180109e-02,  1.60690658e-02,\n        9.73690022e-03, -1.25895282e-02, -6.32219529e-03,  7.69266346e-03,\n       -1.04453629e-02, -1.58533256e-03, -7.38531962e-05, -3.05162203e-02,\n        2.20474452e-02, -3.52491327e-02,  1.81207713e-02,  4.21218481e-03,\n        3.05835996e-03,  3.28023136e-02, -4.12103727e-05, -4.43264954e-02,\n        3.12247202e-02, -1.66052599e-02,  1.11564156e-02,  2.17821188e-02,\n       -1.86457001e-02,  1.77813359e-02,  6.99780136e-03,  3.42441611e-02,\n        7.82769130e-05,  8.47407850e-04,  2.57031266e-02, -2.21710280e-02,\n       -2.18377709e-02,  1.25635602e-02, -1.08970786e-02,  7.11842580e-03,\n       -6.11826399e-05, -1.94242373e-02, -2.49858517e-02,  1.41755808e-02,\n       -2.16474179e-02, -3.09389401e-02,  1.57403983e-02,  3.34798843e-02,\n       -1.13797141e-02,  2.40693595e-02,  6.43359125e-03,  2.36948300e-03,\n       -1.96569674e-02,  2.07135757e-03,  2.75688758e-03, -1.29083591e-02,\n        4.15695016e-04, -4.04700376e-02, -2.96584032e-02, -2.10628621e-02,\n       -7.68755889e-03, -2.51469146e-02, -2.48457193e-02, -1.39607489e-02,\n       -1.32617736e-02,  2.07190849e-02, -2.97806156e-03,  4.80098510e-03,\n        1.25320042e-02,  1.19761229e-02,  1.06276441e-02, -1.59151871e-02,\n       -1.37143414e-02,  3.62687111e-02, -3.94413136e-02,  1.08894361e-02,\n       -1.52352797e-02, -4.74776514e-02, -1.69630419e-03, -2.40824791e-03,\n        2.15934194e-03, -1.60737038e-02, -1.06109092e-02,  1.77698415e-02,\n        5.50208986e-03, -1.56948832e-03,  8.14840477e-03,  2.67198775e-02,\n        2.16582082e-02, -3.62146795e-02, -3.57041657e-02,  9.91598889e-03,\n        6.47744583e-03, -1.85923011e-03, -2.09669489e-02, -2.43906025e-02,\n       -2.23503206e-02,  1.85510591e-02,  8.16460047e-03, -3.15763280e-02,\n       -8.02134629e-03,  1.38730630e-02, -1.68644041e-02,  5.63192705e-04,\n        1.76810101e-02,  3.67943831e-02, -2.07482930e-02, -1.57713844e-03,\n        1.71100795e-02,  2.58134864e-03,  2.42048465e-02,  1.08290575e-02,\n        4.32077982e-03, -4.25053202e-03,  1.32078379e-02,  6.86652632e-03,\n        4.81297355e-03, -3.26516181e-02,  2.70965183e-03, -3.51306945e-02,\n       -1.28177470e-02,  4.78412723e-03,  2.30551674e-03, -1.93302538e-02,\n        6.33928105e-02,  9.29956697e-03, -6.79974677e-03,  4.25244914e-03,\n        9.91477072e-03,  1.88260190e-02,  1.19849676e-02, -1.09647065e-02,\n        6.22698758e-03, -3.04906871e-02,  1.71548221e-02, -2.61685383e-02,\n       -2.11841264e-03, -2.57160589e-02, -1.53267011e-03,  4.30491287e-03,\n       -2.69450545e-02, -1.80884302e-02,  1.07284375e-02, -1.70401912e-02,\n        3.95995006e-02, -8.28977954e-03,  1.34644341e-02, -7.06387637e-03,\n       -4.18863557e-02, -1.65023282e-02, -2.95130108e-02, -2.95820702e-02,\n       -1.34978006e-02, -3.07560753e-04, -2.78186221e-02,  1.42536461e-02,\n        2.25921143e-02,  2.33115032e-02, -1.50986062e-02, -1.25549100e-02,\n       -1.54768238e-02, -5.74376658e-02,  2.56982651e-02, -1.44218458e-02,\n       -5.04322629e-03, -2.26976979e-03, -8.98998324e-03, -5.43883555e-02,\n        4.78624890e-04,  2.29532309e-02,  1.90445781e-02,  5.12816431e-03,\n        6.42752415e-03, -3.44496407e-02, -2.06515659e-04,  3.93429585e-03,\n       -1.62109770e-02,  1.12456661e-02, -7.67133525e-03,  1.97209883e-02,\n        3.35111916e-02,  2.40170676e-03,  2.55841985e-02,  1.51642039e-03,\n       -1.93490461e-02, -4.96627297e-03,  5.50157577e-02, -4.87670712e-02,\n        9.67951585e-03, -2.57839840e-02, -4.52597719e-03, -9.77970660e-03,\n        1.75614785e-02,  1.16448253e-02,  3.81383076e-02,  2.42277002e-03,\n        2.24001445e-02, -5.01982346e-02,  2.50373618e-03, -1.84683017e-02,\n        3.33374105e-02,  2.21592560e-03,  5.46032190e-03,  2.47649141e-02,\n       -2.50537302e-02,  3.30661945e-02,  2.25876067e-02, -8.52139667e-03,\n        2.82258950e-02, -1.54648535e-02, -2.00523492e-02,  1.90388858e-02,\n       -1.27401464e-02,  1.36324856e-02,  6.40188903e-03,  3.60478573e-02,\n        4.19788249e-03, -4.06559650e-03, -7.39678973e-03,  4.67866240e-03,\n       -6.05988503e-03, -1.27611412e-02, -3.74468826e-02, -9.94643755e-03,\n        4.67391219e-03,  2.92278063e-02,  2.23490782e-02, -1.08501669e-02,\n        1.44625576e-02, -6.90564513e-03, -1.24826785e-02,  3.76364961e-02,\n       -2.20874324e-02,  2.10020673e-02, -1.62342694e-02, -2.40455791e-02,\n       -3.97221185e-03, -8.59412458e-03,  9.70475841e-03,  1.20590841e-02,\n       -1.23571977e-02,  2.03481559e-02,  2.07013525e-02, -1.39232287e-02,\n       -1.78906657e-02, -2.16688588e-02,  3.51621350e-03, -2.16550864e-02,\n       -2.55521154e-03, -1.13627054e-02,  1.30288815e-02,  4.57591697e-04,\n       -9.27978754e-03, -2.54349988e-02, -1.01002667e-03, -7.20008230e-03,\n       -1.71446204e-02,  1.66112874e-02,  8.70557502e-03, -4.52642292e-02,\n       -1.76730789e-02,  1.28362887e-02,  2.86348816e-02, -3.14470306e-02,\n        1.82423703e-02, -2.20194198e-02, -1.80422328e-02,  1.09482920e-02,\n        2.90171672e-02, -3.14230509e-02, -3.11672618e-03,  1.71971954e-02,\n       -2.87402123e-02,  9.15187586e-04,  6.94177207e-03,  1.72363203e-02,\n       -8.86867102e-03,  4.50989651e-03, -1.96961220e-03, -2.55488344e-02,\n       -1.69926248e-02, -2.20585205e-02, -5.96516021e-03, -8.96526559e-04,\n        3.36312485e-04, -1.61384474e-02,  1.33195482e-02, -1.35005396e-02,\n       -5.49672637e-03, -1.42110437e-02, -2.41306201e-02,  2.73769666e-02,\n        4.95188450e-03,  1.31638544e-02, -6.18887180e-03, -2.07151845e-02,\n       -4.16117813e-03,  3.23906988e-02,  1.96799599e-02,  7.19111599e-03,\n        4.85693291e-03,  2.17665043e-02, -7.92846642e-03,  3.18211466e-02,\n       -2.59850882e-02,  2.41406206e-02,  1.71955265e-02, -1.48145566e-02,\n       -1.41647514e-02,  6.07674895e-03,  6.00803318e-03,  7.90909398e-03,\n       -1.20011717e-02,  1.35593200e-02,  7.89776910e-03,  2.51370892e-02,\n       -9.89402551e-03,  3.54505028e-03,  4.22335863e-02,  1.59495417e-02,\n       -1.13832410e-02, -6.05598907e-04, -1.70377046e-02, -1.64101105e-02,\n       -2.61495579e-02, -1.48295378e-02,  8.57300591e-03,  3.66843529e-02,\n       -3.89932841e-03, -2.29733940e-02,  2.56713703e-02, -1.81710925e-02,\n       -4.07042168e-03,  2.07627448e-03, -1.34892464e-02,  5.10192011e-03,\n       -2.12310906e-02, -8.14451929e-03,  1.05898771e-02, -1.84154958e-02,\n       -2.09830403e-02,  1.21385166e-02, -4.05440666e-03,  6.59039710e-03,\n        3.20955776e-02,  5.30014839e-03,  3.35156769e-02,  5.74967870e-03,\n        6.74133701e-03,  1.06065329e-02,  8.75976030e-03, -3.51631176e-03,\n       -2.14411877e-02, -8.26824643e-03,  3.65700722e-02,  3.49920662e-03,\n       -5.67275705e-03, -4.19639200e-02,  1.92435160e-02,  1.36295138e-02,\n        1.47397732e-02,  2.24004220e-02, -6.33264240e-03, -4.32395972e-02,\n       -1.82214677e-02,  3.25673842e-03, -1.35412654e-02,  1.83394961e-02,\n       -1.04083326e-02, -2.47654170e-02,  1.93250403e-02,  2.48428602e-02,\n        2.04664259e-03, -4.28440608e-03,  2.39431043e-03,  4.63083796e-02,\n        1.39002204e-02, -3.41561995e-02, -1.41962273e-02,  8.83246493e-03,\n        2.61434540e-02, -2.27713846e-02, -3.31702232e-02, -7.21838651e-03,\n       -2.33833585e-02,  6.45540003e-03, -1.47467609e-02,  8.59061535e-03,\n       -3.47931460e-02, -1.89021677e-02, -9.14275832e-03,  3.18415649e-02,\n       -8.66831467e-03,  5.41990856e-03, -6.25134353e-03,  9.11855791e-03,\n       -2.56911013e-03,  2.87434217e-02, -1.51471677e-05,  1.65956374e-03,\n        1.04763396e-02, -1.14007271e-03, -1.32999104e-02,  4.59306454e-03,\n        1.85615383e-03, -5.35470713e-03,  2.71772537e-02,  2.60268226e-02,\n        4.27028630e-03,  8.59015342e-03, -1.78263597e-02,  1.55670475e-02,\n       -5.20099141e-03, -3.16210790e-03,  1.36824688e-02, -1.10267866e-02,\n        2.30746903e-02,  1.80049930e-02, -2.68656891e-02, -4.33983319e-02,\n       -6.42577792e-03, -1.46018974e-02,  2.59961691e-02, -1.46626160e-02,\n       -1.33445216e-02,  1.09086977e-02,  2.12139226e-02, -4.70327167e-03,\n       -1.60294026e-02, -2.17330568e-02, -2.10955944e-02, -1.58074796e-02,\n       -7.24306563e-03,  2.34857239e-02,  2.48080381e-04, -2.14316957e-02,\n       -2.40625665e-02,  1.12648448e-02, -6.46645529e-03, -1.62762962e-02,\n       -2.70871799e-02,  1.60596892e-02,  2.25311108e-02,  3.79482820e-03,\n       -1.09122330e-02,  2.32285354e-02, -1.67665556e-02, -1.96812917e-02,\n       -3.77595946e-02,  4.78171511e-03,  3.77554893e-02,  6.83958223e-03,\n        8.93709715e-03,  3.04309148e-02, -1.11853881e-02,  1.29017672e-02,\n       -1.73867978e-02,  4.50900523e-03, -4.17028815e-02,  6.50957786e-03,\n       -3.63064595e-02, -1.17026875e-02, -1.93577334e-02,  2.17148662e-02,\n        1.73349027e-02, -1.38257379e-02, -2.25350112e-02, -2.05633156e-02,\n       -1.39590818e-02,  2.32036435e-03, -4.98629548e-03, -1.47215184e-02,\n        9.25370376e-04, -1.55092394e-02, -7.47969095e-03,  1.42220566e-02,\n       -3.77149414e-03,  1.54386116e-02, -1.87465199e-03,  2.04124581e-02,\n       -2.73473207e-02, -6.77026692e-04, -1.95446108e-02,  4.04023118e-02,\n       -9.95174889e-03,  6.70347270e-03,  7.70087354e-03,  8.84873047e-03,\n       -2.03728117e-02, -2.21377816e-02, -3.25990394e-02,  4.08165343e-02,\n        1.87466815e-02, -3.70501094e-02,  3.65603380e-02, -2.31596269e-02,\n       -1.95678324e-03, -1.94561891e-02,  1.11603858e-02,  1.69250350e-02,\n       -1.34764398e-02, -1.84031297e-02, -2.32748105e-03, -5.54471230e-03,\n       -1.05273249e-02, -2.17176918e-02, -1.15468642e-02, -1.07297618e-02,\n       -2.78132851e-04,  7.69067882e-03, -1.17247161e-02, -2.63332948e-03,\n       -9.81086399e-03, -2.79194321e-02, -7.05426093e-03, -3.52274925e-02,\n        5.18721603e-02,  1.34296604e-02, -2.09401269e-03, -3.08688041e-02,\n       -2.52560396e-02, -3.41302939e-02,  3.24063227e-02,  5.05506806e-03,\n       -2.37868121e-03, -4.85643670e-02, -1.06688507e-03, -1.76514797e-02,\n       -1.26444018e-02, -1.38284860e-03,  1.29402122e-02, -1.56741813e-02,\n       -3.83567102e-02,  1.92482099e-02,  2.26173387e-03,  2.94758547e-02,\n       -2.12976662e-03, -2.79202987e-03,  2.33185589e-02,  5.10400860e-03,\n        1.89143065e-02,  2.21396200e-02,  2.06465535e-02,  3.37583050e-02,\n       -6.29466027e-03, -1.53450081e-02, -9.25192796e-03,  2.54790541e-02,\n        9.39859077e-03,  2.05481593e-02, -1.26104038e-02,  2.67992318e-02,\n        1.39471563e-03, -1.33643113e-02,  1.02545870e-02,  8.40001181e-03,\n       -4.30962397e-03,  1.96817461e-02, -4.90136929e-02,  1.04059419e-03,\n       -2.83787888e-03,  2.14448851e-02, -2.19010636e-02,  2.48273257e-02,\n        1.60414744e-02, -2.55934782e-02,  2.42170468e-02, -3.30234393e-02,\n        4.42714756e-03,  3.07324547e-02, -8.27943999e-03,  3.40877054e-03,\n        1.05446507e-03,  1.13809365e-03, -2.82918122e-02, -9.51610506e-03,\n       -1.05489641e-02, -8.08920246e-04, -9.59210563e-03,  5.72744338e-03,\n        1.91327475e-03,  1.97109226e-02, -1.17938314e-02, -7.91854504e-03,\n       -2.94693988e-02, -5.20766787e-02, -6.04904676e-03,  1.79256126e-02],\n      dtype=float32)"
     },
     "execution_count": 11,
     "metadata": {},
     "output_type": "execute_result"
    }
   ],
   "source": [
    "woman"
   ],
   "metadata": {
    "collapsed": false,
    "ExecuteTime": {
     "end_time": "2024-01-06T03:13:44.065625100Z",
     "start_time": "2024-01-06T03:13:43.941944500Z"
    }
   },
   "id": "a04405a23cee83a1",
   "execution_count": 11
  }
 ],
 "metadata": {
  "kernelspec": {
   "display_name": "Python 3",
   "language": "python",
   "name": "python3"
  },
  "language_info": {
   "codemirror_mode": {
    "name": "ipython",
    "version": 2
   },
   "file_extension": ".py",
   "mimetype": "text/x-python",
   "name": "python",
   "nbconvert_exporter": "python",
   "pygments_lexer": "ipython2",
   "version": "2.7.6"
  }
 },
 "nbformat": 4,
 "nbformat_minor": 5
}
