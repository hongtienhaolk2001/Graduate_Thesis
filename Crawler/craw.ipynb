{
 "cells": [
  {
   "cell_type": "code",
   "execution_count": 20,
   "id": "initial_id",
   "metadata": {
    "collapsed": true,
    "ExecuteTime": {
     "end_time": "2023-10-19T14:53:01.978274Z",
     "start_time": "2023-10-19T14:53:00.319748300Z"
    }
   },
   "outputs": [],
   "source": [
    "import pandas as pd\n",
    "from selenium import webdriver\n",
    "from selenium.webdriver.common.by import By\n",
    "from selenium.webdriver.chrome.options import Options\n",
    "from selenium.webdriver.chrome.service import Service"
   ]
  },
  {
   "cell_type": "code",
   "execution_count": null,
   "outputs": [],
   "source": [],
   "metadata": {
    "collapsed": false
   },
   "id": "a41dfdf696ff2305"
  },
  {
   "cell_type": "code",
   "execution_count": 18,
   "outputs": [
    {
     "data": {
      "text/plain": "      category                                              title  \\\n0            1  THỦ TƯỚNG: XUẤT KHẨU GẠO PHẢI XEM XÉT KĨ LƯỠNG...   \n1            1  GIÁ GẠO THÁI LAN LÊN CAO NHẤT 7 NĂM KHI DỊCH C...   \n2            1  LÃNH ĐẠO CÁC TỈNH ĐBSCL: VỤ ĐÔNG XUÂN 2020 ĐƯỢ...   \n3            1                       XUẤT KHẨU GẠO ẤN ĐỘ GIẢM 35%   \n4            1    THỦ TƯỚNG: SẼ GIỮ 3,5 TRIỆU HA ĐẤT ĐỂ TRỒNG LÚA   \n...        ...                                                ...   \n3235         1          RICE EXPORTERS URGED TO END NEW CONTRACTS   \n3236         1               ĐIỀU GÌ GIÚP LÚA \"CẢI TỬ HOÀN SINH\"?   \n3237         1                                \"BÙNG NỔ\" VỤ HÈ THU   \n3238         1         KHUYẾN CÁO NGỪNG KÝ HỢP ĐỒNG XUẤT KHẨU GẠO   \n3239         1               GIÁ GẠO VIỆT NAM TĂNG DO NHU CẦU CAO   \n\n                date                                            content  \\\n0     04 | 04 | 2020  Văn phòng Chính phủ vừa ban hành văn bản 140/T...   \n1     04 | 04 | 2020  Theo Reuters, giá gạo trằng 5% tấm của Thái La...   \n2     27 | 03 | 2020  Ông Mai Anh Nhịn - Phó Chủ tịch UBND tỉnh Kiên...   \n3     27 | 03 | 2020  Hiện rất nhiều lô hàng gạo Basmati xuất khẩu c...   \n4     20 | 03 | 2020  Thủ tướng Nguyễn Xuân Phúc nhấn mạnh điều này ...   \n...              ...                                                ...   \n3235  09 | 06 | 2007  The official estimated that, by the year's hal...   \n3236  13 | 04 | 2002  Cứu được lúa... lùn\\nTrên cánh đồng thôn Thanh...   \n3237  12 | 04 | 2002  Đổ xô làm lúa hè thu\\nNgày 9/4, Bộ NN- PTNT tổ...   \n3238  12 | 06 | 2007  Lý do là lượng gạo xuất khẩu trong các hợp đồn...   \n3239  14 | 06 | 2007  Nhiều khách hàng nước ngoài đang rất quan tâm ...   \n\n                                                sources brief  \n0     https://agro.gov.vn/vn/tID29345_Thu-tuong-Xuat...        \n1     https://agro.gov.vn/vn/tID29340_Gia-gao-Thai-L...        \n2     https://agro.gov.vn/vn/tID29323_Lanh-dao-cac-t...        \n3     https://agro.gov.vn/vn/tID29320_Xuat-khau-gao-...        \n4     https://agro.gov.vn/vn/tID29280_Thu-tuong-Se-g...        \n...                                                 ...   ...  \n3235  https://agro.gov.vn/vn/tID3492_Rice-exporters-...        \n3236  https://agro.gov.vn/vn/tID8332_Dieu-gi-giup-lu...        \n3237  https://agro.gov.vn/vn/tID8329_Bung-no-vu-he-t...        \n3238  https://agro.gov.vn/vn/tID3505_Khuyen-cao-ngun...        \n3239  https://agro.gov.vn/vn/tID3525_Gia-gao-Viet-Na...        \n\n[3240 rows x 6 columns]",
      "text/html": "<div>\n<style scoped>\n    .dataframe tbody tr th:only-of-type {\n        vertical-align: middle;\n    }\n\n    .dataframe tbody tr th {\n        vertical-align: top;\n    }\n\n    .dataframe thead th {\n        text-align: right;\n    }\n</style>\n<table border=\"1\" class=\"dataframe\">\n  <thead>\n    <tr style=\"text-align: right;\">\n      <th></th>\n      <th>category</th>\n      <th>title</th>\n      <th>date</th>\n      <th>content</th>\n      <th>sources</th>\n      <th>brief</th>\n    </tr>\n  </thead>\n  <tbody>\n    <tr>\n      <th>0</th>\n      <td>1</td>\n      <td>THỦ TƯỚNG: XUẤT KHẨU GẠO PHẢI XEM XÉT KĨ LƯỠNG...</td>\n      <td>04 | 04 | 2020</td>\n      <td>Văn phòng Chính phủ vừa ban hành văn bản 140/T...</td>\n      <td>https://agro.gov.vn/vn/tID29345_Thu-tuong-Xuat...</td>\n      <td></td>\n    </tr>\n    <tr>\n      <th>1</th>\n      <td>1</td>\n      <td>GIÁ GẠO THÁI LAN LÊN CAO NHẤT 7 NĂM KHI DỊCH C...</td>\n      <td>04 | 04 | 2020</td>\n      <td>Theo Reuters, giá gạo trằng 5% tấm của Thái La...</td>\n      <td>https://agro.gov.vn/vn/tID29340_Gia-gao-Thai-L...</td>\n      <td></td>\n    </tr>\n    <tr>\n      <th>2</th>\n      <td>1</td>\n      <td>LÃNH ĐẠO CÁC TỈNH ĐBSCL: VỤ ĐÔNG XUÂN 2020 ĐƯỢ...</td>\n      <td>27 | 03 | 2020</td>\n      <td>Ông Mai Anh Nhịn - Phó Chủ tịch UBND tỉnh Kiên...</td>\n      <td>https://agro.gov.vn/vn/tID29323_Lanh-dao-cac-t...</td>\n      <td></td>\n    </tr>\n    <tr>\n      <th>3</th>\n      <td>1</td>\n      <td>XUẤT KHẨU GẠO ẤN ĐỘ GIẢM 35%</td>\n      <td>27 | 03 | 2020</td>\n      <td>Hiện rất nhiều lô hàng gạo Basmati xuất khẩu c...</td>\n      <td>https://agro.gov.vn/vn/tID29320_Xuat-khau-gao-...</td>\n      <td></td>\n    </tr>\n    <tr>\n      <th>4</th>\n      <td>1</td>\n      <td>THỦ TƯỚNG: SẼ GIỮ 3,5 TRIỆU HA ĐẤT ĐỂ TRỒNG LÚA</td>\n      <td>20 | 03 | 2020</td>\n      <td>Thủ tướng Nguyễn Xuân Phúc nhấn mạnh điều này ...</td>\n      <td>https://agro.gov.vn/vn/tID29280_Thu-tuong-Se-g...</td>\n      <td></td>\n    </tr>\n    <tr>\n      <th>...</th>\n      <td>...</td>\n      <td>...</td>\n      <td>...</td>\n      <td>...</td>\n      <td>...</td>\n      <td>...</td>\n    </tr>\n    <tr>\n      <th>3235</th>\n      <td>1</td>\n      <td>RICE EXPORTERS URGED TO END NEW CONTRACTS</td>\n      <td>09 | 06 | 2007</td>\n      <td>The official estimated that, by the year's hal...</td>\n      <td>https://agro.gov.vn/vn/tID3492_Rice-exporters-...</td>\n      <td></td>\n    </tr>\n    <tr>\n      <th>3236</th>\n      <td>1</td>\n      <td>ĐIỀU GÌ GIÚP LÚA \"CẢI TỬ HOÀN SINH\"?</td>\n      <td>13 | 04 | 2002</td>\n      <td>Cứu được lúa... lùn\\nTrên cánh đồng thôn Thanh...</td>\n      <td>https://agro.gov.vn/vn/tID8332_Dieu-gi-giup-lu...</td>\n      <td></td>\n    </tr>\n    <tr>\n      <th>3237</th>\n      <td>1</td>\n      <td>\"BÙNG NỔ\" VỤ HÈ THU</td>\n      <td>12 | 04 | 2002</td>\n      <td>Đổ xô làm lúa hè thu\\nNgày 9/4, Bộ NN- PTNT tổ...</td>\n      <td>https://agro.gov.vn/vn/tID8329_Bung-no-vu-he-t...</td>\n      <td></td>\n    </tr>\n    <tr>\n      <th>3238</th>\n      <td>1</td>\n      <td>KHUYẾN CÁO NGỪNG KÝ HỢP ĐỒNG XUẤT KHẨU GẠO</td>\n      <td>12 | 06 | 2007</td>\n      <td>Lý do là lượng gạo xuất khẩu trong các hợp đồn...</td>\n      <td>https://agro.gov.vn/vn/tID3505_Khuyen-cao-ngun...</td>\n      <td></td>\n    </tr>\n    <tr>\n      <th>3239</th>\n      <td>1</td>\n      <td>GIÁ GẠO VIỆT NAM TĂNG DO NHU CẦU CAO</td>\n      <td>14 | 06 | 2007</td>\n      <td>Nhiều khách hàng nước ngoài đang rất quan tâm ...</td>\n      <td>https://agro.gov.vn/vn/tID3525_Gia-gao-Viet-Na...</td>\n      <td></td>\n    </tr>\n  </tbody>\n</table>\n<p>3240 rows × 6 columns</p>\n</div>"
     },
     "execution_count": 18,
     "metadata": {},
     "output_type": "execute_result"
    }
   ],
   "source": [
    "file = ['./data/rice_news_36-70.csv',\n",
    "        './data/rice_news_71-105.csv',\n",
    "        './data/rice_news_106-127.csv',\n",
    "        './data/rice_news_128-140.csv',\n",
    "        './data/rice_news_141-185.csv',\n",
    "        './data/rice_news_186-229.csv',\n",
    "        './data/rice_news_230-360.csv']\n",
    "df = pd.concat(map(pd.read_csv, file), ignore_index=True)\n",
    "df.drop(df.columns[[0, -1]], axis=1, inplace=True)\n",
    "df['brief'] = [\"\"]*3240\n",
    "df['category'] = [1]*3240\n",
    "df"
   ],
   "metadata": {
    "collapsed": false,
    "ExecuteTime": {
     "end_time": "2023-10-19T14:51:02.340825500Z",
     "start_time": "2023-10-19T14:51:00.442286400Z"
    }
   },
   "id": "6941518211234ba"
  },
  {
   "cell_type": "code",
   "execution_count": 21,
   "outputs": [],
   "source": [
    "options = Options()\n",
    "options.headless = False\n",
    "options.add_argument(\"--window-size=1920,1080\")\n",
    "service = Service(executable_path='./chromedriver.exe')"
   ],
   "metadata": {
    "collapsed": false,
    "ExecuteTime": {
     "end_time": "2023-10-19T14:53:31.358175200Z",
     "start_time": "2023-10-19T14:53:31.240121300Z"
    }
   },
   "id": "c95e47fc41adc2bf"
  },
  {
   "cell_type": "code",
   "execution_count": 25,
   "outputs": [
    {
     "ename": "SessionNotCreatedException",
     "evalue": "Message: session not created: Chrome failed to start: exited normally.\n  (session not created: DevToolsActivePort file doesn't exist)\n  (The process started from chrome location C:\\Program Files\\Google\\Chrome\\Application\\chrome.exe is no longer running, so ChromeDriver is assuming that Chrome has crashed.)\nStacktrace:\n\tGetHandleVerifier [0x00007FF74B0A7892+54818]\n\t(No symbol) [0x00007FF74B016AC2]\n\t(No symbol) [0x00007FF74AECDA3B]\n\t(No symbol) [0x00007FF74AEFC202]\n\t(No symbol) [0x00007FF74AEF802E]\n\t(No symbol) [0x00007FF74AF367FB]\n\t(No symbol) [0x00007FF74AF2E883]\n\t(No symbol) [0x00007FF74AF03691]\n\t(No symbol) [0x00007FF74AF048D4]\n\tGetHandleVerifier [0x00007FF74B40B992+3610402]\n\tGetHandleVerifier [0x00007FF74B461860+3962352]\n\tGetHandleVerifier [0x00007FF74B459D4F+3930847]\n\tGetHandleVerifier [0x00007FF74B143646+693206]\n\t(No symbol) [0x00007FF74B021628]\n\t(No symbol) [0x00007FF74B01D934]\n\t(No symbol) [0x00007FF74B01DA62]\n\t(No symbol) [0x00007FF74B00E113]\n\tBaseThreadInitThunk [0x00007FFB31697344+20]\n\tRtlUserThreadStart [0x00007FFB336426B1+33]\n",
     "output_type": "error",
     "traceback": [
      "\u001B[1;31m---------------------------------------------------------------------------\u001B[0m",
      "\u001B[1;31mSessionNotCreatedException\u001B[0m                Traceback (most recent call last)",
      "Cell \u001B[1;32mIn[25], line 3\u001B[0m\n\u001B[0;32m      1\u001B[0m lst \u001B[38;5;241m=\u001B[39m []\n\u001B[0;32m      2\u001B[0m \u001B[38;5;28;01mfor\u001B[39;00m source \u001B[38;5;129;01min\u001B[39;00m df[\u001B[38;5;124m'\u001B[39m\u001B[38;5;124msources\u001B[39m\u001B[38;5;124m'\u001B[39m]:\n\u001B[1;32m----> 3\u001B[0m         browser \u001B[38;5;241m=\u001B[39m \u001B[43mwebdriver\u001B[49m\u001B[38;5;241;43m.\u001B[39;49m\u001B[43mChrome\u001B[49m\u001B[43m(\u001B[49m\u001B[43mservice\u001B[49m\u001B[38;5;241;43m=\u001B[39;49m\u001B[43mservice\u001B[49m\u001B[43m,\u001B[49m\u001B[43m \u001B[49m\u001B[43moptions\u001B[49m\u001B[38;5;241;43m=\u001B[39;49m\u001B[43moptions\u001B[49m\u001B[43m)\u001B[49m\n\u001B[0;32m      4\u001B[0m         \u001B[38;5;28;01mtry\u001B[39;00m:\n\u001B[0;32m      5\u001B[0m                 browser\u001B[38;5;241m.\u001B[39mget(source)\n",
      "File \u001B[1;32mD:\\Workspace\\github\\Graduate_Thesis\\venv\\Lib\\site-packages\\selenium\\webdriver\\chrome\\webdriver.py:45\u001B[0m, in \u001B[0;36mWebDriver.__init__\u001B[1;34m(self, options, service, keep_alive)\u001B[0m\n\u001B[0;32m     42\u001B[0m service \u001B[38;5;241m=\u001B[39m service \u001B[38;5;28;01mif\u001B[39;00m service \u001B[38;5;28;01melse\u001B[39;00m Service()\n\u001B[0;32m     43\u001B[0m options \u001B[38;5;241m=\u001B[39m options \u001B[38;5;28;01mif\u001B[39;00m options \u001B[38;5;28;01melse\u001B[39;00m Options()\n\u001B[1;32m---> 45\u001B[0m \u001B[38;5;28;43msuper\u001B[39;49m\u001B[43m(\u001B[49m\u001B[43m)\u001B[49m\u001B[38;5;241;43m.\u001B[39;49m\u001B[38;5;21;43m__init__\u001B[39;49m\u001B[43m(\u001B[49m\n\u001B[0;32m     46\u001B[0m \u001B[43m    \u001B[49m\u001B[43mDesiredCapabilities\u001B[49m\u001B[38;5;241;43m.\u001B[39;49m\u001B[43mCHROME\u001B[49m\u001B[43m[\u001B[49m\u001B[38;5;124;43m\"\u001B[39;49m\u001B[38;5;124;43mbrowserName\u001B[39;49m\u001B[38;5;124;43m\"\u001B[39;49m\u001B[43m]\u001B[49m\u001B[43m,\u001B[49m\n\u001B[0;32m     47\u001B[0m \u001B[43m    \u001B[49m\u001B[38;5;124;43m\"\u001B[39;49m\u001B[38;5;124;43mgoog\u001B[39;49m\u001B[38;5;124;43m\"\u001B[39;49m\u001B[43m,\u001B[49m\n\u001B[0;32m     48\u001B[0m \u001B[43m    \u001B[49m\u001B[43moptions\u001B[49m\u001B[43m,\u001B[49m\n\u001B[0;32m     49\u001B[0m \u001B[43m    \u001B[49m\u001B[43mservice\u001B[49m\u001B[43m,\u001B[49m\n\u001B[0;32m     50\u001B[0m \u001B[43m    \u001B[49m\u001B[43mkeep_alive\u001B[49m\u001B[43m,\u001B[49m\n\u001B[0;32m     51\u001B[0m \u001B[43m\u001B[49m\u001B[43m)\u001B[49m\n",
      "File \u001B[1;32mD:\\Workspace\\github\\Graduate_Thesis\\venv\\Lib\\site-packages\\selenium\\webdriver\\chromium\\webdriver.py:56\u001B[0m, in \u001B[0;36mChromiumDriver.__init__\u001B[1;34m(self, browser_name, vendor_prefix, options, service, keep_alive)\u001B[0m\n\u001B[0;32m     53\u001B[0m \u001B[38;5;28mself\u001B[39m\u001B[38;5;241m.\u001B[39mservice\u001B[38;5;241m.\u001B[39mstart()\n\u001B[0;32m     55\u001B[0m \u001B[38;5;28;01mtry\u001B[39;00m:\n\u001B[1;32m---> 56\u001B[0m     \u001B[38;5;28;43msuper\u001B[39;49m\u001B[43m(\u001B[49m\u001B[43m)\u001B[49m\u001B[38;5;241;43m.\u001B[39;49m\u001B[38;5;21;43m__init__\u001B[39;49m\u001B[43m(\u001B[49m\n\u001B[0;32m     57\u001B[0m \u001B[43m        \u001B[49m\u001B[43mcommand_executor\u001B[49m\u001B[38;5;241;43m=\u001B[39;49m\u001B[43mChromiumRemoteConnection\u001B[49m\u001B[43m(\u001B[49m\n\u001B[0;32m     58\u001B[0m \u001B[43m            \u001B[49m\u001B[43mremote_server_addr\u001B[49m\u001B[38;5;241;43m=\u001B[39;49m\u001B[38;5;28;43mself\u001B[39;49m\u001B[38;5;241;43m.\u001B[39;49m\u001B[43mservice\u001B[49m\u001B[38;5;241;43m.\u001B[39;49m\u001B[43mservice_url\u001B[49m\u001B[43m,\u001B[49m\n\u001B[0;32m     59\u001B[0m \u001B[43m            \u001B[49m\u001B[43mbrowser_name\u001B[49m\u001B[38;5;241;43m=\u001B[39;49m\u001B[43mbrowser_name\u001B[49m\u001B[43m,\u001B[49m\n\u001B[0;32m     60\u001B[0m \u001B[43m            \u001B[49m\u001B[43mvendor_prefix\u001B[49m\u001B[38;5;241;43m=\u001B[39;49m\u001B[43mvendor_prefix\u001B[49m\u001B[43m,\u001B[49m\n\u001B[0;32m     61\u001B[0m \u001B[43m            \u001B[49m\u001B[43mkeep_alive\u001B[49m\u001B[38;5;241;43m=\u001B[39;49m\u001B[43mkeep_alive\u001B[49m\u001B[43m,\u001B[49m\n\u001B[0;32m     62\u001B[0m \u001B[43m            \u001B[49m\u001B[43mignore_proxy\u001B[49m\u001B[38;5;241;43m=\u001B[39;49m\u001B[43moptions\u001B[49m\u001B[38;5;241;43m.\u001B[39;49m\u001B[43m_ignore_local_proxy\u001B[49m\u001B[43m,\u001B[49m\n\u001B[0;32m     63\u001B[0m \u001B[43m        \u001B[49m\u001B[43m)\u001B[49m\u001B[43m,\u001B[49m\n\u001B[0;32m     64\u001B[0m \u001B[43m        \u001B[49m\u001B[43moptions\u001B[49m\u001B[38;5;241;43m=\u001B[39;49m\u001B[43moptions\u001B[49m\u001B[43m,\u001B[49m\n\u001B[0;32m     65\u001B[0m \u001B[43m    \u001B[49m\u001B[43m)\u001B[49m\n\u001B[0;32m     66\u001B[0m \u001B[38;5;28;01mexcept\u001B[39;00m \u001B[38;5;167;01mException\u001B[39;00m:\n\u001B[0;32m     67\u001B[0m     \u001B[38;5;28mself\u001B[39m\u001B[38;5;241m.\u001B[39mquit()\n",
      "File \u001B[1;32mD:\\Workspace\\github\\Graduate_Thesis\\venv\\Lib\\site-packages\\selenium\\webdriver\\remote\\webdriver.py:205\u001B[0m, in \u001B[0;36mWebDriver.__init__\u001B[1;34m(self, command_executor, keep_alive, file_detector, options)\u001B[0m\n\u001B[0;32m    203\u001B[0m \u001B[38;5;28mself\u001B[39m\u001B[38;5;241m.\u001B[39m_authenticator_id \u001B[38;5;241m=\u001B[39m \u001B[38;5;28;01mNone\u001B[39;00m\n\u001B[0;32m    204\u001B[0m \u001B[38;5;28mself\u001B[39m\u001B[38;5;241m.\u001B[39mstart_client()\n\u001B[1;32m--> 205\u001B[0m \u001B[38;5;28;43mself\u001B[39;49m\u001B[38;5;241;43m.\u001B[39;49m\u001B[43mstart_session\u001B[49m\u001B[43m(\u001B[49m\u001B[43mcapabilities\u001B[49m\u001B[43m)\u001B[49m\n",
      "File \u001B[1;32mD:\\Workspace\\github\\Graduate_Thesis\\venv\\Lib\\site-packages\\selenium\\webdriver\\remote\\webdriver.py:289\u001B[0m, in \u001B[0;36mWebDriver.start_session\u001B[1;34m(self, capabilities)\u001B[0m\n\u001B[0;32m    282\u001B[0m \u001B[38;5;250m\u001B[39m\u001B[38;5;124;03m\"\"\"Creates a new session with the desired capabilities.\u001B[39;00m\n\u001B[0;32m    283\u001B[0m \n\u001B[0;32m    284\u001B[0m \u001B[38;5;124;03m:Args:\u001B[39;00m\n\u001B[0;32m    285\u001B[0m \u001B[38;5;124;03m - capabilities - a capabilities dict to start the session with.\u001B[39;00m\n\u001B[0;32m    286\u001B[0m \u001B[38;5;124;03m\"\"\"\u001B[39;00m\n\u001B[0;32m    288\u001B[0m caps \u001B[38;5;241m=\u001B[39m _create_caps(capabilities)\n\u001B[1;32m--> 289\u001B[0m response \u001B[38;5;241m=\u001B[39m \u001B[38;5;28;43mself\u001B[39;49m\u001B[38;5;241;43m.\u001B[39;49m\u001B[43mexecute\u001B[49m\u001B[43m(\u001B[49m\u001B[43mCommand\u001B[49m\u001B[38;5;241;43m.\u001B[39;49m\u001B[43mNEW_SESSION\u001B[49m\u001B[43m,\u001B[49m\u001B[43m \u001B[49m\u001B[43mcaps\u001B[49m\u001B[43m)\u001B[49m[\u001B[38;5;124m\"\u001B[39m\u001B[38;5;124mvalue\u001B[39m\u001B[38;5;124m\"\u001B[39m]\n\u001B[0;32m    290\u001B[0m \u001B[38;5;28mself\u001B[39m\u001B[38;5;241m.\u001B[39msession_id \u001B[38;5;241m=\u001B[39m response\u001B[38;5;241m.\u001B[39mget(\u001B[38;5;124m\"\u001B[39m\u001B[38;5;124msessionId\u001B[39m\u001B[38;5;124m\"\u001B[39m)\n\u001B[0;32m    291\u001B[0m \u001B[38;5;28mself\u001B[39m\u001B[38;5;241m.\u001B[39mcaps \u001B[38;5;241m=\u001B[39m response\u001B[38;5;241m.\u001B[39mget(\u001B[38;5;124m\"\u001B[39m\u001B[38;5;124mcapabilities\u001B[39m\u001B[38;5;124m\"\u001B[39m)\n",
      "File \u001B[1;32mD:\\Workspace\\github\\Graduate_Thesis\\venv\\Lib\\site-packages\\selenium\\webdriver\\remote\\webdriver.py:344\u001B[0m, in \u001B[0;36mWebDriver.execute\u001B[1;34m(self, driver_command, params)\u001B[0m\n\u001B[0;32m    342\u001B[0m response \u001B[38;5;241m=\u001B[39m \u001B[38;5;28mself\u001B[39m\u001B[38;5;241m.\u001B[39mcommand_executor\u001B[38;5;241m.\u001B[39mexecute(driver_command, params)\n\u001B[0;32m    343\u001B[0m \u001B[38;5;28;01mif\u001B[39;00m response:\n\u001B[1;32m--> 344\u001B[0m     \u001B[38;5;28;43mself\u001B[39;49m\u001B[38;5;241;43m.\u001B[39;49m\u001B[43merror_handler\u001B[49m\u001B[38;5;241;43m.\u001B[39;49m\u001B[43mcheck_response\u001B[49m\u001B[43m(\u001B[49m\u001B[43mresponse\u001B[49m\u001B[43m)\u001B[49m\n\u001B[0;32m    345\u001B[0m     response[\u001B[38;5;124m\"\u001B[39m\u001B[38;5;124mvalue\u001B[39m\u001B[38;5;124m\"\u001B[39m] \u001B[38;5;241m=\u001B[39m \u001B[38;5;28mself\u001B[39m\u001B[38;5;241m.\u001B[39m_unwrap_value(response\u001B[38;5;241m.\u001B[39mget(\u001B[38;5;124m\"\u001B[39m\u001B[38;5;124mvalue\u001B[39m\u001B[38;5;124m\"\u001B[39m, \u001B[38;5;28;01mNone\u001B[39;00m))\n\u001B[0;32m    346\u001B[0m     \u001B[38;5;28;01mreturn\u001B[39;00m response\n",
      "File \u001B[1;32mD:\\Workspace\\github\\Graduate_Thesis\\venv\\Lib\\site-packages\\selenium\\webdriver\\remote\\errorhandler.py:229\u001B[0m, in \u001B[0;36mErrorHandler.check_response\u001B[1;34m(self, response)\u001B[0m\n\u001B[0;32m    227\u001B[0m         alert_text \u001B[38;5;241m=\u001B[39m value[\u001B[38;5;124m\"\u001B[39m\u001B[38;5;124malert\u001B[39m\u001B[38;5;124m\"\u001B[39m]\u001B[38;5;241m.\u001B[39mget(\u001B[38;5;124m\"\u001B[39m\u001B[38;5;124mtext\u001B[39m\u001B[38;5;124m\"\u001B[39m)\n\u001B[0;32m    228\u001B[0m     \u001B[38;5;28;01mraise\u001B[39;00m exception_class(message, screen, stacktrace, alert_text)  \u001B[38;5;66;03m# type: ignore[call-arg]  # mypy is not smart enough here\u001B[39;00m\n\u001B[1;32m--> 229\u001B[0m \u001B[38;5;28;01mraise\u001B[39;00m exception_class(message, screen, stacktrace)\n",
      "\u001B[1;31mSessionNotCreatedException\u001B[0m: Message: session not created: Chrome failed to start: exited normally.\n  (session not created: DevToolsActivePort file doesn't exist)\n  (The process started from chrome location C:\\Program Files\\Google\\Chrome\\Application\\chrome.exe is no longer running, so ChromeDriver is assuming that Chrome has crashed.)\nStacktrace:\n\tGetHandleVerifier [0x00007FF74B0A7892+54818]\n\t(No symbol) [0x00007FF74B016AC2]\n\t(No symbol) [0x00007FF74AECDA3B]\n\t(No symbol) [0x00007FF74AEFC202]\n\t(No symbol) [0x00007FF74AEF802E]\n\t(No symbol) [0x00007FF74AF367FB]\n\t(No symbol) [0x00007FF74AF2E883]\n\t(No symbol) [0x00007FF74AF03691]\n\t(No symbol) [0x00007FF74AF048D4]\n\tGetHandleVerifier [0x00007FF74B40B992+3610402]\n\tGetHandleVerifier [0x00007FF74B461860+3962352]\n\tGetHandleVerifier [0x00007FF74B459D4F+3930847]\n\tGetHandleVerifier [0x00007FF74B143646+693206]\n\t(No symbol) [0x00007FF74B021628]\n\t(No symbol) [0x00007FF74B01D934]\n\t(No symbol) [0x00007FF74B01DA62]\n\t(No symbol) [0x00007FF74B00E113]\n\tBaseThreadInitThunk [0x00007FFB31697344+20]\n\tRtlUserThreadStart [0x00007FFB336426B1+33]\n"
     ]
    }
   ],
   "source": [
    "lst = []\n",
    "for source in df['sources']:\n",
    "        browser = webdriver.Chrome(service=service, options=options)\n",
    "        try:\n",
    "                browser.get(source)\n",
    "                element = browser.find_element(By.ID, \"ctl00_maincontent_N_TRICHDAN\")\n",
    "                lst.append(element.text)\n",
    "        except:\n",
    "                lst.append(\" \")\n",
    "        browser.quit()                        "
   ],
   "metadata": {
    "collapsed": false,
    "ExecuteTime": {
     "end_time": "2023-10-19T19:36:52.222165900Z",
     "start_time": "2023-10-19T15:01:48.243082900Z"
    }
   },
   "id": "b661ff3b97fc9ef4"
  },
  {
   "cell_type": "code",
   "execution_count": 31,
   "outputs": [],
   "source": [
    "pd.DataFrame(lst).to_csv('aaa.csv')"
   ],
   "metadata": {
    "collapsed": false,
    "ExecuteTime": {
     "end_time": "2023-10-19T19:46:26.231289700Z",
     "start_time": "2023-10-19T19:46:26.167178900Z"
    }
   },
   "id": "6fc47668ad48ece4"
  }
 ],
 "metadata": {
  "kernelspec": {
   "display_name": "Python 3",
   "language": "python",
   "name": "python3"
  },
  "language_info": {
   "codemirror_mode": {
    "name": "ipython",
    "version": 2
   },
   "file_extension": ".py",
   "mimetype": "text/x-python",
   "name": "python",
   "nbconvert_exporter": "python",
   "pygments_lexer": "ipython2",
   "version": "2.7.6"
  }
 },
 "nbformat": 4,
 "nbformat_minor": 5
}
