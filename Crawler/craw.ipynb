{
 "cells": [
  {
   "cell_type": "code",
   "execution_count": 11,
   "id": "initial_id",
   "metadata": {
    "collapsed": true,
    "ExecuteTime": {
     "end_time": "2023-10-27T15:33:58.981262Z",
     "start_time": "2023-10-27T15:33:58.812039Z"
    }
   },
   "outputs": [],
   "source": [
    "import pandas as pd\n",
    "from selenium import webdriver\n",
    "from selenium.webdriver.common.by import By\n",
    "from selenium.webdriver.chrome.options import Options\n",
    "from selenium.webdriver.chrome.service import Service"
   ]
  },
  {
   "cell_type": "code",
   "execution_count": 12,
   "outputs": [
    {
     "data": {
      "text/plain": "      category                                              title  \\\n2235         1         XUẤT KHẨU GẠO 3 THÁNG ĐẦU NĂM TĂNG HƠN 71%   \n2236         1            DÃN TIẾN ĐỘ XUẤT KHẨU GẠO: LỢI HAY HẠI?   \n2237         1  BẢN TIN THỊ TRƯỜNG VÀ THƯƠNG MẠI LÚA GẠO VIỆT ...   \n2238         1                       ST5 - “HOA HẬU” MIỀN ĐẤT MẶN   \n2239         1     40.000HA LÚA XUÂN TẠI PHÍA BẮC THIẾU NƯỚC TƯỚI   \n...        ...                                                ...   \n3235         1          RICE EXPORTERS URGED TO END NEW CONTRACTS   \n3236         1               ĐIỀU GÌ GIÚP LÚA \"CẢI TỬ HOÀN SINH\"?   \n3237         1                                \"BÙNG NỔ\" VỤ HÈ THU   \n3238         1         KHUYẾN CÁO NGỪNG KÝ HỢP ĐỒNG XUẤT KHẨU GẠO   \n3239         1               GIÁ GẠO VIỆT NAM TĂNG DO NHU CẦU CAO   \n\n                date                                            content  \\\n2235  31 | 03 | 2009  Riêng trong tháng 3-2009, xuất khẩu đạt 700.00...   \n2236  30 | 03 | 2009  Doanh nghiệp bức xúc\\n\\nHHLT vừa có văn bản yê...   \n2237  01 | 04 | 2009  - Phân Ure trong xu hướng tăng giá\\n- Giá phân...   \n2238  30 | 03 | 2009  Giống lúa “ 3 trong 1”\\nHơn tháng nay, nhiều t...   \n2239  02 | 04 | 2009  Mực nước sông Hồng thấp nhất đo được tại Hà Nộ...   \n...              ...                                                ...   \n3235  09 | 06 | 2007  The official estimated that, by the year's hal...   \n3236  13 | 04 | 2002  Cứu được lúa... lùn\\nTrên cánh đồng thôn Thanh...   \n3237  12 | 04 | 2002  Đổ xô làm lúa hè thu\\nNgày 9/4, Bộ NN- PTNT tổ...   \n3238  12 | 06 | 2007  Lý do là lượng gạo xuất khẩu trong các hợp đồn...   \n3239  14 | 06 | 2007  Nhiều khách hàng nước ngoài đang rất quan tâm ...   \n\n                                                sources  \n2235  https://agro.gov.vn/vn/tID13325_Xuat-khau-gao-...  \n2236  https://agro.gov.vn/vn/tID13313_Dan-tien-do-xu...  \n2237  https://agro.gov.vn/vn/tID13339_Ban-tin-thi-tr...  \n2238  https://agro.gov.vn/vn/tID13305_ST5--Hoa-hau-m...  \n2239  https://agro.gov.vn/vn/tID13371_40000ha-lua-xu...  \n...                                                 ...  \n3235  https://agro.gov.vn/vn/tID3492_Rice-exporters-...  \n3236  https://agro.gov.vn/vn/tID8332_Dieu-gi-giup-lu...  \n3237  https://agro.gov.vn/vn/tID8329_Bung-no-vu-he-t...  \n3238  https://agro.gov.vn/vn/tID3505_Khuyen-cao-ngun...  \n3239  https://agro.gov.vn/vn/tID3525_Gia-gao-Viet-Na...  \n\n[1005 rows x 5 columns]",
      "text/html": "<div>\n<style scoped>\n    .dataframe tbody tr th:only-of-type {\n        vertical-align: middle;\n    }\n\n    .dataframe tbody tr th {\n        vertical-align: top;\n    }\n\n    .dataframe thead th {\n        text-align: right;\n    }\n</style>\n<table border=\"1\" class=\"dataframe\">\n  <thead>\n    <tr style=\"text-align: right;\">\n      <th></th>\n      <th>category</th>\n      <th>title</th>\n      <th>date</th>\n      <th>content</th>\n      <th>sources</th>\n    </tr>\n  </thead>\n  <tbody>\n    <tr>\n      <th>2235</th>\n      <td>1</td>\n      <td>XUẤT KHẨU GẠO 3 THÁNG ĐẦU NĂM TĂNG HƠN 71%</td>\n      <td>31 | 03 | 2009</td>\n      <td>Riêng trong tháng 3-2009, xuất khẩu đạt 700.00...</td>\n      <td>https://agro.gov.vn/vn/tID13325_Xuat-khau-gao-...</td>\n    </tr>\n    <tr>\n      <th>2236</th>\n      <td>1</td>\n      <td>DÃN TIẾN ĐỘ XUẤT KHẨU GẠO: LỢI HAY HẠI?</td>\n      <td>30 | 03 | 2009</td>\n      <td>Doanh nghiệp bức xúc\\n\\nHHLT vừa có văn bản yê...</td>\n      <td>https://agro.gov.vn/vn/tID13313_Dan-tien-do-xu...</td>\n    </tr>\n    <tr>\n      <th>2237</th>\n      <td>1</td>\n      <td>BẢN TIN THỊ TRƯỜNG VÀ THƯƠNG MẠI LÚA GẠO VIỆT ...</td>\n      <td>01 | 04 | 2009</td>\n      <td>- Phân Ure trong xu hướng tăng giá\\n- Giá phân...</td>\n      <td>https://agro.gov.vn/vn/tID13339_Ban-tin-thi-tr...</td>\n    </tr>\n    <tr>\n      <th>2238</th>\n      <td>1</td>\n      <td>ST5 - “HOA HẬU” MIỀN ĐẤT MẶN</td>\n      <td>30 | 03 | 2009</td>\n      <td>Giống lúa “ 3 trong 1”\\nHơn tháng nay, nhiều t...</td>\n      <td>https://agro.gov.vn/vn/tID13305_ST5--Hoa-hau-m...</td>\n    </tr>\n    <tr>\n      <th>2239</th>\n      <td>1</td>\n      <td>40.000HA LÚA XUÂN TẠI PHÍA BẮC THIẾU NƯỚC TƯỚI</td>\n      <td>02 | 04 | 2009</td>\n      <td>Mực nước sông Hồng thấp nhất đo được tại Hà Nộ...</td>\n      <td>https://agro.gov.vn/vn/tID13371_40000ha-lua-xu...</td>\n    </tr>\n    <tr>\n      <th>...</th>\n      <td>...</td>\n      <td>...</td>\n      <td>...</td>\n      <td>...</td>\n      <td>...</td>\n    </tr>\n    <tr>\n      <th>3235</th>\n      <td>1</td>\n      <td>RICE EXPORTERS URGED TO END NEW CONTRACTS</td>\n      <td>09 | 06 | 2007</td>\n      <td>The official estimated that, by the year's hal...</td>\n      <td>https://agro.gov.vn/vn/tID3492_Rice-exporters-...</td>\n    </tr>\n    <tr>\n      <th>3236</th>\n      <td>1</td>\n      <td>ĐIỀU GÌ GIÚP LÚA \"CẢI TỬ HOÀN SINH\"?</td>\n      <td>13 | 04 | 2002</td>\n      <td>Cứu được lúa... lùn\\nTrên cánh đồng thôn Thanh...</td>\n      <td>https://agro.gov.vn/vn/tID8332_Dieu-gi-giup-lu...</td>\n    </tr>\n    <tr>\n      <th>3237</th>\n      <td>1</td>\n      <td>\"BÙNG NỔ\" VỤ HÈ THU</td>\n      <td>12 | 04 | 2002</td>\n      <td>Đổ xô làm lúa hè thu\\nNgày 9/4, Bộ NN- PTNT tổ...</td>\n      <td>https://agro.gov.vn/vn/tID8329_Bung-no-vu-he-t...</td>\n    </tr>\n    <tr>\n      <th>3238</th>\n      <td>1</td>\n      <td>KHUYẾN CÁO NGỪNG KÝ HỢP ĐỒNG XUẤT KHẨU GẠO</td>\n      <td>12 | 06 | 2007</td>\n      <td>Lý do là lượng gạo xuất khẩu trong các hợp đồn...</td>\n      <td>https://agro.gov.vn/vn/tID3505_Khuyen-cao-ngun...</td>\n    </tr>\n    <tr>\n      <th>3239</th>\n      <td>1</td>\n      <td>GIÁ GẠO VIỆT NAM TĂNG DO NHU CẦU CAO</td>\n      <td>14 | 06 | 2007</td>\n      <td>Nhiều khách hàng nước ngoài đang rất quan tâm ...</td>\n      <td>https://agro.gov.vn/vn/tID3525_Gia-gao-Viet-Na...</td>\n    </tr>\n  </tbody>\n</table>\n<p>1005 rows × 5 columns</p>\n</div>"
     },
     "execution_count": 12,
     "metadata": {},
     "output_type": "execute_result"
    }
   ],
   "source": [
    "df = pd.read_csv(r'../data/raw_data/rice.csv')\n",
    "df = df[2235:].copy()\n",
    "df.drop(df.columns[[0, -1]], axis=1, inplace=True)\n",
    "df"
   ],
   "metadata": {
    "collapsed": false,
    "ExecuteTime": {
     "end_time": "2023-10-27T15:34:01.019578100Z",
     "start_time": "2023-10-27T15:33:58.833302400Z"
    }
   },
   "id": "6941518211234ba"
  },
  {
   "cell_type": "code",
   "execution_count": 13,
   "outputs": [],
   "source": [
    "options = Options()\n",
    "options.headless = False\n",
    "options.add_argument(\"--window-size=1920,1080\")\n",
    "service = Service(executable_path='./chromedriver.exe')"
   ],
   "metadata": {
    "collapsed": false,
    "ExecuteTime": {
     "end_time": "2023-10-27T15:34:01.183652700Z",
     "start_time": "2023-10-27T15:34:00.965347Z"
    }
   },
   "id": "c95e47fc41adc2bf"
  },
  {
   "cell_type": "code",
   "execution_count": 14,
   "outputs": [],
   "source": [
    "lst = []\n",
    "for source in df['sources']:\n",
    "        browser = webdriver.Chrome(service=service, options=options)\n",
    "        try:\n",
    "                browser.get(source)\n",
    "                element = browser.find_element(By.ID, \"ctl00_maincontent_N_TRICHDAN\")\n",
    "                lst.append(element.text)\n",
    "        except:\n",
    "                lst.append(\" \")\n",
    "        browser.quit()                        "
   ],
   "metadata": {
    "collapsed": false,
    "ExecuteTime": {
     "end_time": "2023-10-27T18:02:45.001421200Z",
     "start_time": "2023-10-27T15:34:01.079097Z"
    }
   },
   "id": "b661ff3b97fc9ef4"
  },
  {
   "cell_type": "code",
   "execution_count": 15,
   "outputs": [],
   "source": [
    "df['brief'] = lst\n",
    "df.to_csv('../data/raw_data/rice_1.csv')"
   ],
   "metadata": {
    "collapsed": false,
    "ExecuteTime": {
     "end_time": "2023-10-27T18:02:45.555393800Z",
     "start_time": "2023-10-27T18:02:45.020422700Z"
    }
   },
   "id": "6fc47668ad48ece4"
  },
  {
   "cell_type": "code",
   "execution_count": 17,
   "outputs": [
    {
     "data": {
      "text/plain": "      category                                              title  \\\n2235         1         XUẤT KHẨU GẠO 3 THÁNG ĐẦU NĂM TĂNG HƠN 71%   \n2236         1            DÃN TIẾN ĐỘ XUẤT KHẨU GẠO: LỢI HAY HẠI?   \n2237         1  BẢN TIN THỊ TRƯỜNG VÀ THƯƠNG MẠI LÚA GẠO VIỆT ...   \n2238         1                       ST5 - “HOA HẬU” MIỀN ĐẤT MẶN   \n2239         1     40.000HA LÚA XUÂN TẠI PHÍA BẮC THIẾU NƯỚC TƯỚI   \n...        ...                                                ...   \n3235         1          RICE EXPORTERS URGED TO END NEW CONTRACTS   \n3236         1               ĐIỀU GÌ GIÚP LÚA \"CẢI TỬ HOÀN SINH\"?   \n3237         1                                \"BÙNG NỔ\" VỤ HÈ THU   \n3238         1         KHUYẾN CÁO NGỪNG KÝ HỢP ĐỒNG XUẤT KHẨU GẠO   \n3239         1               GIÁ GẠO VIỆT NAM TĂNG DO NHU CẦU CAO   \n\n                date                                            content  \\\n2235  31 | 03 | 2009  Riêng trong tháng 3-2009, xuất khẩu đạt 700.00...   \n2236  30 | 03 | 2009  Doanh nghiệp bức xúc\\n\\nHHLT vừa có văn bản yê...   \n2237  01 | 04 | 2009  - Phân Ure trong xu hướng tăng giá\\n- Giá phân...   \n2238  30 | 03 | 2009  Giống lúa “ 3 trong 1”\\nHơn tháng nay, nhiều t...   \n2239  02 | 04 | 2009  Mực nước sông Hồng thấp nhất đo được tại Hà Nộ...   \n...              ...                                                ...   \n3235  09 | 06 | 2007  The official estimated that, by the year's hal...   \n3236  13 | 04 | 2002  Cứu được lúa... lùn\\nTrên cánh đồng thôn Thanh...   \n3237  12 | 04 | 2002  Đổ xô làm lúa hè thu\\nNgày 9/4, Bộ NN- PTNT tổ...   \n3238  12 | 06 | 2007  Lý do là lượng gạo xuất khẩu trong các hợp đồn...   \n3239  14 | 06 | 2007  Nhiều khách hàng nước ngoài đang rất quan tâm ...   \n\n                                                sources  \\\n2235  https://agro.gov.vn/vn/tID13325_Xuat-khau-gao-...   \n2236  https://agro.gov.vn/vn/tID13313_Dan-tien-do-xu...   \n2237  https://agro.gov.vn/vn/tID13339_Ban-tin-thi-tr...   \n2238  https://agro.gov.vn/vn/tID13305_ST5--Hoa-hau-m...   \n2239  https://agro.gov.vn/vn/tID13371_40000ha-lua-xu...   \n...                                                 ...   \n3235  https://agro.gov.vn/vn/tID3492_Rice-exporters-...   \n3236  https://agro.gov.vn/vn/tID8332_Dieu-gi-giup-lu...   \n3237  https://agro.gov.vn/vn/tID8329_Bung-no-vu-he-t...   \n3238  https://agro.gov.vn/vn/tID3505_Khuyen-cao-ngun...   \n3239  https://agro.gov.vn/vn/tID3525_Gia-gao-Viet-Na...   \n\n                                                  brief  \n2235  Bộ NN&PTNT cho biết, tổng sản lượng gạo xuất k...  \n2236  Trái ngược với quy luật vào vụ giá giảm, đã qu...  \n2237  Theo chỉ đạo của Bộ Công thương và Bộ NN&PTNT,...  \n2238  Sau nhiều năm mày mò, thử nghiệm, nông dân vùn...  \n2239  Cục Thủy lợi - Bộ NN&PTNT cho biết, khoảng 40....  \n...                                                 ...  \n3235  An official from the Ministry of Trade has urg...  \n3236  Những ngày qua, các phương tiện thông tin đại ...  \n3237  Do vụ ĐX thắng lợi, trong khi giá gạo cao chưa...  \n3238  Vụ Xuất nhập khẩu (Bộ Thương mại) khuyến cáo c...  \n3239  Giá xuất khẩu gạo Việt Nam hầu hết tăng trong ...  \n\n[1005 rows x 6 columns]",
      "text/html": "<div>\n<style scoped>\n    .dataframe tbody tr th:only-of-type {\n        vertical-align: middle;\n    }\n\n    .dataframe tbody tr th {\n        vertical-align: top;\n    }\n\n    .dataframe thead th {\n        text-align: right;\n    }\n</style>\n<table border=\"1\" class=\"dataframe\">\n  <thead>\n    <tr style=\"text-align: right;\">\n      <th></th>\n      <th>category</th>\n      <th>title</th>\n      <th>date</th>\n      <th>content</th>\n      <th>sources</th>\n      <th>brief</th>\n    </tr>\n  </thead>\n  <tbody>\n    <tr>\n      <th>2235</th>\n      <td>1</td>\n      <td>XUẤT KHẨU GẠO 3 THÁNG ĐẦU NĂM TĂNG HƠN 71%</td>\n      <td>31 | 03 | 2009</td>\n      <td>Riêng trong tháng 3-2009, xuất khẩu đạt 700.00...</td>\n      <td>https://agro.gov.vn/vn/tID13325_Xuat-khau-gao-...</td>\n      <td>Bộ NN&amp;PTNT cho biết, tổng sản lượng gạo xuất k...</td>\n    </tr>\n    <tr>\n      <th>2236</th>\n      <td>1</td>\n      <td>DÃN TIẾN ĐỘ XUẤT KHẨU GẠO: LỢI HAY HẠI?</td>\n      <td>30 | 03 | 2009</td>\n      <td>Doanh nghiệp bức xúc\\n\\nHHLT vừa có văn bản yê...</td>\n      <td>https://agro.gov.vn/vn/tID13313_Dan-tien-do-xu...</td>\n      <td>Trái ngược với quy luật vào vụ giá giảm, đã qu...</td>\n    </tr>\n    <tr>\n      <th>2237</th>\n      <td>1</td>\n      <td>BẢN TIN THỊ TRƯỜNG VÀ THƯƠNG MẠI LÚA GẠO VIỆT ...</td>\n      <td>01 | 04 | 2009</td>\n      <td>- Phân Ure trong xu hướng tăng giá\\n- Giá phân...</td>\n      <td>https://agro.gov.vn/vn/tID13339_Ban-tin-thi-tr...</td>\n      <td>Theo chỉ đạo của Bộ Công thương và Bộ NN&amp;PTNT,...</td>\n    </tr>\n    <tr>\n      <th>2238</th>\n      <td>1</td>\n      <td>ST5 - “HOA HẬU” MIỀN ĐẤT MẶN</td>\n      <td>30 | 03 | 2009</td>\n      <td>Giống lúa “ 3 trong 1”\\nHơn tháng nay, nhiều t...</td>\n      <td>https://agro.gov.vn/vn/tID13305_ST5--Hoa-hau-m...</td>\n      <td>Sau nhiều năm mày mò, thử nghiệm, nông dân vùn...</td>\n    </tr>\n    <tr>\n      <th>2239</th>\n      <td>1</td>\n      <td>40.000HA LÚA XUÂN TẠI PHÍA BẮC THIẾU NƯỚC TƯỚI</td>\n      <td>02 | 04 | 2009</td>\n      <td>Mực nước sông Hồng thấp nhất đo được tại Hà Nộ...</td>\n      <td>https://agro.gov.vn/vn/tID13371_40000ha-lua-xu...</td>\n      <td>Cục Thủy lợi - Bộ NN&amp;PTNT cho biết, khoảng 40....</td>\n    </tr>\n    <tr>\n      <th>...</th>\n      <td>...</td>\n      <td>...</td>\n      <td>...</td>\n      <td>...</td>\n      <td>...</td>\n      <td>...</td>\n    </tr>\n    <tr>\n      <th>3235</th>\n      <td>1</td>\n      <td>RICE EXPORTERS URGED TO END NEW CONTRACTS</td>\n      <td>09 | 06 | 2007</td>\n      <td>The official estimated that, by the year's hal...</td>\n      <td>https://agro.gov.vn/vn/tID3492_Rice-exporters-...</td>\n      <td>An official from the Ministry of Trade has urg...</td>\n    </tr>\n    <tr>\n      <th>3236</th>\n      <td>1</td>\n      <td>ĐIỀU GÌ GIÚP LÚA \"CẢI TỬ HOÀN SINH\"?</td>\n      <td>13 | 04 | 2002</td>\n      <td>Cứu được lúa... lùn\\nTrên cánh đồng thôn Thanh...</td>\n      <td>https://agro.gov.vn/vn/tID8332_Dieu-gi-giup-lu...</td>\n      <td>Những ngày qua, các phương tiện thông tin đại ...</td>\n    </tr>\n    <tr>\n      <th>3237</th>\n      <td>1</td>\n      <td>\"BÙNG NỔ\" VỤ HÈ THU</td>\n      <td>12 | 04 | 2002</td>\n      <td>Đổ xô làm lúa hè thu\\nNgày 9/4, Bộ NN- PTNT tổ...</td>\n      <td>https://agro.gov.vn/vn/tID8329_Bung-no-vu-he-t...</td>\n      <td>Do vụ ĐX thắng lợi, trong khi giá gạo cao chưa...</td>\n    </tr>\n    <tr>\n      <th>3238</th>\n      <td>1</td>\n      <td>KHUYẾN CÁO NGỪNG KÝ HỢP ĐỒNG XUẤT KHẨU GẠO</td>\n      <td>12 | 06 | 2007</td>\n      <td>Lý do là lượng gạo xuất khẩu trong các hợp đồn...</td>\n      <td>https://agro.gov.vn/vn/tID3505_Khuyen-cao-ngun...</td>\n      <td>Vụ Xuất nhập khẩu (Bộ Thương mại) khuyến cáo c...</td>\n    </tr>\n    <tr>\n      <th>3239</th>\n      <td>1</td>\n      <td>GIÁ GẠO VIỆT NAM TĂNG DO NHU CẦU CAO</td>\n      <td>14 | 06 | 2007</td>\n      <td>Nhiều khách hàng nước ngoài đang rất quan tâm ...</td>\n      <td>https://agro.gov.vn/vn/tID3525_Gia-gao-Viet-Na...</td>\n      <td>Giá xuất khẩu gạo Việt Nam hầu hết tăng trong ...</td>\n    </tr>\n  </tbody>\n</table>\n<p>1005 rows × 6 columns</p>\n</div>"
     },
     "execution_count": 17,
     "metadata": {},
     "output_type": "execute_result"
    }
   ],
   "source": [
    "df"
   ],
   "metadata": {
    "collapsed": false,
    "ExecuteTime": {
     "end_time": "2023-10-27T18:08:12.728202500Z",
     "start_time": "2023-10-27T18:08:12.688919100Z"
    }
   },
   "id": "f5bb5c9ba30e1565"
  }
 ],
 "metadata": {
  "kernelspec": {
   "display_name": "Python 3",
   "language": "python",
   "name": "python3"
  },
  "language_info": {
   "codemirror_mode": {
    "name": "ipython",
    "version": 2
   },
   "file_extension": ".py",
   "mimetype": "text/x-python",
   "name": "python",
   "nbconvert_exporter": "python",
   "pygments_lexer": "ipython2",
   "version": "2.7.6"
  }
 },
 "nbformat": 4,
 "nbformat_minor": 5
}
