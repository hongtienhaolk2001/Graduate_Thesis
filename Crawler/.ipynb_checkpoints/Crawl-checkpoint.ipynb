{
 "cells": [
  {
   "cell_type": "code",
   "execution_count": 8,
   "outputs": [],
   "source": [
    "from selenium import webdriver\n",
    "from time import sleep\n",
    "from selenium.webdriver.common.by import By\n",
    "from selenium.webdriver.chrome.options import Options\n",
    "from selenium.webdriver.chrome.service import Service\n",
    "import json\n",
    "import pandas as pd"
   ],
   "metadata": {
    "collapsed": false,
    "ExecuteTime": {
     "end_time": "2023-09-29T10:50:14.922957Z",
     "start_time": "2023-09-29T10:50:14.900306900Z"
    }
   }
  },
  {
   "cell_type": "code",
   "execution_count": 10,
   "metadata": {
    "collapsed": true,
    "ExecuteTime": {
     "end_time": "2023-09-29T10:51:29.612160500Z",
     "start_time": "2023-09-29T10:51:29.579739100Z"
    }
   },
   "outputs": [],
   "source": [
    "options = Options()\n",
    "options.headless = False\n",
    "options.add_argument(\"--window-size=1920,1080\")\n",
    "service = Service(executable_path='./chromedriver.exe')\n",
    "\n",
    "news_url = [\"http://agro.gov.vn/vn/xc9_Lua-gao.html\",\n",
    "            \"http://agro.gov.vn/vn/xc2_Ca-phe.html\"]"
   ]
  },
  {
   "cell_type": "code",
   "execution_count": 64,
   "outputs": [],
   "source": [
    "news_dict = {'category':[], 'title': [], 'date': [], 'content': [], 'sources':[]}"
   ],
   "metadata": {
    "collapsed": false,
    "ExecuteTime": {
     "end_time": "2023-09-29T11:42:56.110892600Z",
     "start_time": "2023-09-29T11:42:56.102408200Z"
    }
   }
  },
  {
   "cell_type": "markdown",
   "source": [
    "# Crawling Process\n",
    "1. get url about agricultural product\n",
    "    - [RIce](http://agro.gov.vn/vn/xc9_Lua-gao.html)\n",
    "    - [Coffee](http://agro.gov.vn/vn/xc2_Ca-phe.html)\n",
    "2. from url we got from (1), access link to get title, date and content news\n",
    "3. save to jsonl and csv"
   ],
   "metadata": {
    "collapsed": false
   }
  },
  {
   "cell_type": "markdown",
   "source": [
    "## Get Url"
   ],
   "metadata": {
    "collapsed": false
   }
  },
  {
   "cell_type": "code",
   "execution_count": 67,
   "outputs": [
    {
     "data": {
      "text/plain": "10"
     },
     "execution_count": 67,
     "metadata": {},
     "output_type": "execute_result"
    }
   ],
   "source": [],
   "metadata": {
    "collapsed": false,
    "ExecuteTime": {
     "end_time": "2023-09-29T11:44:25.950687700Z",
     "start_time": "2023-09-29T11:44:25.915691100Z"
    }
   }
  },
  {
   "cell_type": "code",
   "execution_count": 65,
   "outputs": [],
   "source": [
    "browser = webdriver.Chrome(service=service, options=options)\n",
    "for i in range(1,361):\n",
    "    browser.get(f\"https://agro.gov.vn/vn/p{i}_9Lua-gao.html\")\n",
    "    sleep(1)\n",
    "    elements = browser.find_elements(By.CSS_SELECTOR, \".news [href]\")\n",
    "    links = [element.get_attribute('href') for element in elements]\n",
    "    browser.quit()\n",
    "    news_dict['sources'] += [*set(links[0:10])]\n",
    "    break"
   ],
   "metadata": {
    "collapsed": false,
    "ExecuteTime": {
     "end_time": "2023-09-29T11:43:09.312881600Z",
     "start_time": "2023-09-29T11:42:59.877443500Z"
    }
   }
  },
  {
   "cell_type": "code",
   "execution_count": null,
   "outputs": [],
   "source": [
    "\n",
    "\n",
    "\n",
    "for news_link in news_dict['sources']:\n",
    "    browser = webdriver.Chrome(options = options, executable_path='./chromedriver.exe')\n",
    "    browser.get(news_link)\n",
    "    sleep(2)\n",
    "    element_1 = browser.find_element(By.CSS_SELECTOR, \".block-newdetail h1\")\n",
    "    news_dict['title'].append(element_1.text)\n",
    "    element_2 = browser.find_element(By.CSS_SELECTOR, \".block-newdetail div\")\n",
    "    news_list.append({'prompt': element_1.text, 'response':element_2.text})\n",
    "    element_2 = browser.find_element(By.CSS_SELECTOR, \".block-newdetail time\")\n",
    "    news_dict['date'].append(element_2.text)\n",
    "    browser.quit()\n",
    "save_to_jsonl(filename='news.jsonl', list_file=news_list)\n",
    "pd.DataFrame.from_dict(news_dict).to_csv('data/news.csv')"
   ],
   "metadata": {
    "collapsed": false
   }
  }
 ],
 "metadata": {
  "kernelspec": {
   "display_name": "Python 3",
   "language": "python",
   "name": "python3"
  },
  "language_info": {
   "codemirror_mode": {
    "name": "ipython",
    "version": 2
   },
   "file_extension": ".py",
   "mimetype": "text/x-python",
   "name": "python",
   "nbconvert_exporter": "python",
   "pygments_lexer": "ipython2",
   "version": "2.7.6"
  }
 },
 "nbformat": 4,
 "nbformat_minor": 0
}
