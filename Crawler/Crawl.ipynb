{
 "cells": [
  {
   "cell_type": "code",
   "execution_count": 21,
   "outputs": [],
   "source": [
    "from selenium import webdriver\n",
    "from time import sleep\n",
    "from selenium.webdriver.common.by import By\n",
    "from selenium.webdriver.chrome.options import Options\n",
    "from selenium.webdriver.chrome.service import Service\n",
    "import json\n",
    "import pandas as pd"
   ],
   "metadata": {
    "collapsed": false,
    "ExecuteTime": {
     "end_time": "2023-09-30T08:50:48.516782500Z",
     "start_time": "2023-09-30T08:50:48.303711400Z"
    }
   }
  },
  {
   "cell_type": "code",
   "execution_count": 22,
   "metadata": {
    "collapsed": true,
    "ExecuteTime": {
     "end_time": "2023-09-30T08:50:48.518784400Z",
     "start_time": "2023-09-30T08:50:48.344675700Z"
    }
   },
   "outputs": [],
   "source": [
    "options = Options()\n",
    "options.headless = False\n",
    "options.add_argument(\"--window-size=1920,1080\")\n",
    "service = Service(executable_path='./chromedriver.exe')"
   ]
  },
  {
   "cell_type": "code",
   "execution_count": 23,
   "outputs": [],
   "source": [
    "news_dict = {'category':[], 'title': [], 'date': [], 'content': [], 'sources':[]}"
   ],
   "metadata": {
    "collapsed": false,
    "ExecuteTime": {
     "end_time": "2023-09-30T08:50:48.538787100Z",
     "start_time": "2023-09-30T08:50:48.391669900Z"
    }
   }
  },
  {
   "cell_type": "markdown",
   "source": [
    "# Crawling Process\n",
    "1. get url about agricultural product\n",
    "    - [RIce](http://agro.gov.vn/vn/xc9_Lua-gao.html)\n",
    "    - [Coffee](http://agro.gov.vn/vn/xc2_Ca-phe.html)\n",
    "2. from url we got from (1), access link to get title, date and content news\n",
    "3. save to jsonl and csv"
   ],
   "metadata": {
    "collapsed": false
   }
  },
  {
   "cell_type": "markdown",
   "source": [
    "## Get Url"
   ],
   "metadata": {
    "collapsed": false
   }
  },
  {
   "cell_type": "code",
   "execution_count": 24,
   "outputs": [],
   "source": [
    "for i in range(128,141):\n",
    "    browser = webdriver.Chrome(service=service, options=options)\n",
    "    browser.get(f\"https://agro.gov.vn/vn/p{i}_9Lua-gao.html\")\n",
    "    elements = browser.find_elements(By.CSS_SELECTOR, \".news [href]\")\n",
    "    links = [element.get_attribute('href') for element in elements]\n",
    "    browser.quit()\n",
    "    news_dict['sources'] += [*set(links[0:10])]"
   ],
   "metadata": {
    "collapsed": false,
    "ExecuteTime": {
     "end_time": "2023-09-30T08:52:38.390169100Z",
     "start_time": "2023-09-30T08:50:48.436792500Z"
    }
   }
  },
  {
   "cell_type": "markdown",
   "source": [
    "## Get Title, Content, Data"
   ],
   "metadata": {
    "collapsed": false
   }
  },
  {
   "cell_type": "code",
   "execution_count": 25,
   "outputs": [],
   "source": [
    "for i in range(len(news_dict['sources'])):\n",
    "    browser = webdriver.Chrome(service=service, options=options)\n",
    "    url = news_dict['sources'][i]\n",
    "    browser.get(url)\n",
    "    try:\n",
    "        #Title\n",
    "        element = browser.find_element(By.ID, \"ctl00_maincontent_N_TIEUDE\")\n",
    "        news_dict['title'].append(element.text)\n",
    "        #Date\n",
    "        element = browser.find_element(By.ID, \"ctl00_maincontent_N_NGAYTHANG\")\n",
    "        news_dict['date'].append(element.text)\n",
    "        #Content\n",
    "        element = browser.find_element(By.ID, \"ctl00_maincontent_N_NOIDUNG\")\n",
    "        news_dict['content'].append(element.text)\n",
    "\n",
    "    except:\n",
    "        news_dict['title'].append(\" \")\n",
    "        news_dict['date'].append(\" \")\n",
    "        news_dict['content'].append(\" \")\n",
    "    browser.quit()"
   ],
   "metadata": {
    "collapsed": false,
    "ExecuteTime": {
     "end_time": "2023-09-30T09:09:58.791773700Z",
     "start_time": "2023-09-30T08:52:38.422176900Z"
    }
   }
  },
  {
   "cell_type": "code",
   "execution_count": 29,
   "outputs": [],
   "source": [
    "news_dict[\"category\"] = [\"rice\"]*130"
   ],
   "metadata": {
    "collapsed": false,
    "ExecuteTime": {
     "end_time": "2023-09-30T09:56:21.704741100Z",
     "start_time": "2023-09-30T09:56:21.682881800Z"
    }
   }
  },
  {
   "cell_type": "code",
   "execution_count": 30,
   "outputs": [],
   "source": [
    "pd.DataFrame.from_dict(news_dict).to_csv('data/rice_news_128-141.csv')"
   ],
   "metadata": {
    "collapsed": false,
    "ExecuteTime": {
     "end_time": "2023-09-30T09:56:22.358121200Z",
     "start_time": "2023-09-30T09:56:22.289940100Z"
    }
   }
  }
 ],
 "metadata": {
  "kernelspec": {
   "display_name": "Python 3",
   "language": "python",
   "name": "python3"
  },
  "language_info": {
   "codemirror_mode": {
    "name": "ipython",
    "version": 2
   },
   "file_extension": ".py",
   "mimetype": "text/x-python",
   "name": "python",
   "nbconvert_exporter": "python",
   "pygments_lexer": "ipython2",
   "version": "2.7.6"
  }
 },
 "nbformat": 4,
 "nbformat_minor": 0
}
