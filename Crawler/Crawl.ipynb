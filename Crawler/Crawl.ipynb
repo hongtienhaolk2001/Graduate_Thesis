{
 "cells": [
  {
   "cell_type": "code",
   "execution_count": 22,
   "outputs": [],
   "source": [
    "from selenium import webdriver\n",
    "from time import sleep\n",
    "from selenium.webdriver.common.by import By\n",
    "from selenium.webdriver.chrome.options import Options\n",
    "from selenium.webdriver.chrome.service import Service\n",
    "import json\n",
    "import pandas as pd"
   ],
   "metadata": {
    "collapsed": false,
    "ExecuteTime": {
     "end_time": "2023-10-04T11:00:23.705865200Z",
     "start_time": "2023-10-04T11:00:23.644092300Z"
    }
   }
  },
  {
   "cell_type": "code",
   "execution_count": 23,
   "metadata": {
    "collapsed": true,
    "ExecuteTime": {
     "end_time": "2023-10-04T11:00:23.821585400Z",
     "start_time": "2023-10-04T11:00:23.723863900Z"
    }
   },
   "outputs": [],
   "source": [
    "options = Options()\n",
    "options.headless = False\n",
    "options.add_argument(\"--window-size=1920,1080\")\n",
    "service = Service(executable_path='./chromedriver.exe')"
   ]
  },
  {
   "cell_type": "code",
   "execution_count": 24,
   "outputs": [],
   "source": [
    "news_dict = {'category':[], 'title': [], 'brief': [], 'date': [], 'content': [], 'sources':[]}"
   ],
   "metadata": {
    "collapsed": false,
    "ExecuteTime": {
     "end_time": "2023-10-04T11:00:23.891424400Z",
     "start_time": "2023-10-04T11:00:23.826585700Z"
    }
   }
  },
  {
   "cell_type": "markdown",
   "source": [
    "# Crawling Process\n",
    "1. get url about agricultural product\n",
    "    - [RIce](http://agro.gov.vn/vn/xc9_Lua-gao.html)\n",
    "    - [Coffee](http://agro.gov.vn/vn/xc2_Ca-phe.html)\n",
    "2. from url we got from (1), access link to get title, date and content news\n",
    "3. save to jsonl and csv"
   ],
   "metadata": {
    "collapsed": false
   }
  },
  {
   "cell_type": "markdown",
   "source": [
    "## Get Url"
   ],
   "metadata": {
    "collapsed": false
   }
  },
  {
   "cell_type": "code",
   "execution_count": 25,
   "outputs": [],
   "source": [
    "for i in range(230,361):\n",
    "    browser = webdriver.Chrome(service=service, options=options)\n",
    "    browser.get(f\"https://agro.gov.vn/vn/p{i}_9Lua-gao.html\")\n",
    "    elements = browser.find_elements(By.CSS_SELECTOR, \".news [href]\")\n",
    "    links = [element.get_attribute('href') for element in elements]\n",
    "    browser.quit()\n",
    "    news_dict['sources'] += [*set(links[0:10])]"
   ],
   "metadata": {
    "collapsed": false,
    "ExecuteTime": {
     "end_time": "2023-10-04T11:21:06.923310300Z",
     "start_time": "2023-10-04T11:00:23.883426300Z"
    }
   }
  },
  {
   "cell_type": "markdown",
   "source": [
    "## Get Title, Content, Data"
   ],
   "metadata": {
    "collapsed": false
   }
  },
  {
   "cell_type": "code",
   "execution_count": 46,
   "outputs": [
    {
     "ename": "IndexError",
     "evalue": "list index out of range",
     "output_type": "error",
     "traceback": [
      "\u001B[1;31m---------------------------------------------------------------------------\u001B[0m",
      "\u001B[1;31mIndexError\u001B[0m                                Traceback (most recent call last)",
      "Cell \u001B[1;32mIn[46], line 4\u001B[0m\n\u001B[0;32m      2\u001B[0m \u001B[38;5;28;01mfor\u001B[39;00m i \u001B[38;5;129;01min\u001B[39;00m \u001B[38;5;28mrange\u001B[39m(\u001B[38;5;241m1310\u001B[39m,\u001B[38;5;241m1311\u001B[39m):\n\u001B[0;32m      3\u001B[0m     browser \u001B[38;5;241m=\u001B[39m webdriver\u001B[38;5;241m.\u001B[39mChrome(service\u001B[38;5;241m=\u001B[39mservice, options\u001B[38;5;241m=\u001B[39moptions)\n\u001B[1;32m----> 4\u001B[0m     url \u001B[38;5;241m=\u001B[39m \u001B[43mnews_dict\u001B[49m\u001B[43m[\u001B[49m\u001B[38;5;124;43m'\u001B[39;49m\u001B[38;5;124;43msources\u001B[39;49m\u001B[38;5;124;43m'\u001B[39;49m\u001B[43m]\u001B[49m\u001B[43m[\u001B[49m\u001B[43mi\u001B[49m\u001B[43m]\u001B[49m\n\u001B[0;32m      5\u001B[0m     browser\u001B[38;5;241m.\u001B[39mget(url)\n\u001B[0;32m      6\u001B[0m     \u001B[38;5;28;01mtry\u001B[39;00m:\n\u001B[0;32m      7\u001B[0m         \u001B[38;5;66;03m#Title\u001B[39;00m\n",
      "\u001B[1;31mIndexError\u001B[0m: list index out of range"
     ]
    }
   ],
   "source": [
    "# for i in range(len(news_dict['sources'])):\n",
    "for i in range(1310,1311):\n",
    "    browser = webdriver.Chrome(service=service, options=options)\n",
    "    url = news_dict['sources'][i]\n",
    "    browser.get(url)\n",
    "    try:\n",
    "        #Title\n",
    "        element = browser.find_element(By.ID, \"ctl00_maincontent_N_TIEUDE\")\n",
    "        news_dict['title'].append(element.text)\n",
    "        #Date\n",
    "        element = browser.find_element(By.ID, \"ctl00_maincontent_N_NGAYTHANG\")\n",
    "        news_dict['date'].append(element.text)\n",
    "        #Content\n",
    "        element = browser.find_element(By.ID, \"ctl00_maincontent_N_NOIDUNG\")\n",
    "        news_dict['content'].append(element.text)\n",
    "\n",
    "    except:\n",
    "        news_dict['title'].append(\" \")\n",
    "        news_dict['date'].append(\" \")\n",
    "        news_dict['content'].append(\" \")\n",
    "    browser.quit()"
   ],
   "metadata": {
    "collapsed": false,
    "ExecuteTime": {
     "end_time": "2023-10-04T14:28:05.370975400Z",
     "start_time": "2023-10-04T14:28:02.783929900Z"
    }
   }
  },
  {
   "cell_type": "code",
   "execution_count": 52,
   "outputs": [],
   "source": [
    "news_dict['title'].append(\" \")\n",
    "news_dict['date'].append(\" \")\n",
    "news_dict['content'].append(\" \")"
   ],
   "metadata": {
    "collapsed": false,
    "ExecuteTime": {
     "end_time": "2023-10-04T14:30:05.067474900Z",
     "start_time": "2023-10-04T14:30:04.965507500Z"
    }
   }
  },
  {
   "cell_type": "code",
   "execution_count": 53,
   "outputs": [],
   "source": [
    "news_dict[\"category\"] = [\"rice\"]*1310"
   ],
   "metadata": {
    "collapsed": false,
    "ExecuteTime": {
     "end_time": "2023-10-04T14:30:09.372807400Z",
     "start_time": "2023-10-04T14:30:09.341812100Z"
    }
   }
  },
  {
   "cell_type": "code",
   "execution_count": 54,
   "outputs": [],
   "source": [
    "pd.DataFrame.from_dict(news_dict).to_csv('data/rice_news_230-360.csv')"
   ],
   "metadata": {
    "collapsed": false,
    "ExecuteTime": {
     "end_time": "2023-10-04T14:30:14.175383100Z",
     "start_time": "2023-10-04T14:30:13.355464800Z"
    }
   }
  },
  {
   "cell_type": "code",
   "execution_count": 2,
   "outputs": [
    {
     "data": {
      "text/plain": "   category  title  brief  date  content  sources\n0         1      2      3     4        5        6",
      "text/html": "<div>\n<style scoped>\n    .dataframe tbody tr th:only-of-type {\n        vertical-align: middle;\n    }\n\n    .dataframe tbody tr th {\n        vertical-align: top;\n    }\n\n    .dataframe thead th {\n        text-align: right;\n    }\n</style>\n<table border=\"1\" class=\"dataframe\">\n  <thead>\n    <tr style=\"text-align: right;\">\n      <th></th>\n      <th>category</th>\n      <th>title</th>\n      <th>brief</th>\n      <th>date</th>\n      <th>content</th>\n      <th>sources</th>\n    </tr>\n  </thead>\n  <tbody>\n    <tr>\n      <th>0</th>\n      <td>1</td>\n      <td>2</td>\n      <td>3</td>\n      <td>4</td>\n      <td>5</td>\n      <td>6</td>\n    </tr>\n  </tbody>\n</table>\n</div>"
     },
     "execution_count": 2,
     "metadata": {},
     "output_type": "execute_result"
    }
   ],
   "source": [
    "import pandas as pd\n",
    "df = pd.DataFrame({'category': [], 'title': [], 'brief': [], 'date': [], 'content': [], 'sources': []})\n",
    "df.loc[len(df.index)] = [1, 2, 3,4,5,6]\n",
    "df"
   ],
   "metadata": {
    "collapsed": false,
    "ExecuteTime": {
     "end_time": "2023-10-21T17:04:01.439791800Z",
     "start_time": "2023-10-21T17:04:01.250436900Z"
    }
   }
  },
  {
   "cell_type": "code",
   "execution_count": 8,
   "outputs": [
    {
     "data": {
      "text/plain": "[0, 1, 2, 3, 4, 0, 1, 2, 3, 4, 5]"
     },
     "execution_count": 8,
     "metadata": {},
     "output_type": "execute_result"
    }
   ],
   "source": [],
   "metadata": {
    "collapsed": false,
    "ExecuteTime": {
     "end_time": "2023-10-21T10:44:44.048090400Z",
     "start_time": "2023-10-21T10:44:44.012047Z"
    }
   }
  },
  {
   "cell_type": "code",
   "execution_count": null,
   "outputs": [],
   "source": [],
   "metadata": {
    "collapsed": false,
    "is_executing": true
   }
  },
  {
   "cell_type": "code",
   "execution_count": null,
   "outputs": [],
   "source": [],
   "metadata": {
    "collapsed": false
   }
  }
 ],
 "metadata": {
  "kernelspec": {
   "display_name": "Python 3",
   "language": "python",
   "name": "python3"
  },
  "language_info": {
   "codemirror_mode": {
    "name": "ipython",
    "version": 2
   },
   "file_extension": ".py",
   "mimetype": "text/x-python",
   "name": "python",
   "nbconvert_exporter": "python",
   "pygments_lexer": "ipython2",
   "version": "2.7.6"
  }
 },
 "nbformat": 4,
 "nbformat_minor": 0
}
