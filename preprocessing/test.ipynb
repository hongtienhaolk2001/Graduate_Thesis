{
 "cells": [
  {
   "cell_type": "code",
   "execution_count": 2,
   "id": "initial_id",
   "metadata": {
    "collapsed": true,
    "ExecuteTime": {
     "end_time": "2023-11-02T10:22:43.032208200Z",
     "start_time": "2023-11-02T10:22:32.165015300Z"
    }
   },
   "outputs": [],
   "source": [
    "import pandas as pd\n",
    "import os\n",
    "import re"
   ]
  },
  {
   "cell_type": "code",
   "execution_count": 6,
   "outputs": [],
   "source": [
    "df = pd.read_csv('../data/original_data/original_data.csv')\n",
    "\n"
   ],
   "metadata": {
    "collapsed": false,
    "ExecuteTime": {
     "end_time": "2023-11-02T10:26:09.574278300Z",
     "start_time": "2023-11-02T10:26:09.274281100Z"
    }
   },
   "id": "a5d43fb7ed243093"
  },
  {
   "cell_type": "markdown",
   "source": [],
   "metadata": {
    "collapsed": false
   },
   "id": "e7f778645df0d194"
  },
  {
   "cell_type": "code",
   "execution_count": 8,
   "outputs": [
    {
     "data": {
      "text/plain": "     category  price  gov  market  intrinsic  extrinsic  \\\n0           1      3    0       0          1          0   \n1           1      0    0       0          1          0   \n2           1      3    3       3          0          0   \n3           1      0    1       0          0          0   \n4           1      3    0       3          0          0   \n..        ...    ...  ...     ...        ...        ...   \n345         1      3    0       3          0          1   \n346         1      3    0       0          0          1   \n347         1      3    0       3          0          0   \n348         1      3    3       0          0          0   \n349         1      3    0       3          0          1   \n\n                                                  News  \n0    VIỆT NAM ĐANG XUẤT NHIỀU GẠO NHẤT THẾ GIỚI VN ...  \n1    XUẤT KHẨU GẠO 8 THÁNG ĐẠT MỨC KỶ LỤC 8 tháng, ...  \n2    PHILIPPINES ĐÀM PHÁN MUA GẠO VIỆT NAM, ẤN ĐỘ Đ...  \n3    GIỮ THƯƠNG HIỆU GẠO VIỆT GIỮA BIẾN ĐỘNG LƯƠNG ...  \n4    GIÁ GẠO TĂNG NHANH, GIỚI BUÔN THẬN TRỌNG NHẬP ...  \n..                                                 ...  \n345  VIỆT NAM KHẲNG ĐỊNH LẠI CAM KẾT CUNG CẤP GẠO C...  \n346  GIÁ GẠO, LÚA MÌ THẾ GIỚI TĂNG CAO DO TÁC ĐỘNG ...  \n347  TRUNG QUỐC TĂNG NHẬP KHẨU GẠO VIỆT GẤP HƠN 8 L...  \n348  HÀN QUỐC SẼ ÁP DỤNG MỨC SUẤT THUẾ ƯU ĐÃI 5% CH...  \n349  GIÁN ĐOẠN NGUỒN CUNG LƯƠNG THỰC DO COVID-19, G...  \n\n[350 rows x 7 columns]",
      "text/html": "<div>\n<style scoped>\n    .dataframe tbody tr th:only-of-type {\n        vertical-align: middle;\n    }\n\n    .dataframe tbody tr th {\n        vertical-align: top;\n    }\n\n    .dataframe thead th {\n        text-align: right;\n    }\n</style>\n<table border=\"1\" class=\"dataframe\">\n  <thead>\n    <tr style=\"text-align: right;\">\n      <th></th>\n      <th>category</th>\n      <th>price</th>\n      <th>gov</th>\n      <th>market</th>\n      <th>intrinsic</th>\n      <th>extrinsic</th>\n      <th>News</th>\n    </tr>\n  </thead>\n  <tbody>\n    <tr>\n      <th>0</th>\n      <td>1</td>\n      <td>3</td>\n      <td>0</td>\n      <td>0</td>\n      <td>1</td>\n      <td>0</td>\n      <td>VIỆT NAM ĐANG XUẤT NHIỀU GẠO NHẤT THẾ GIỚI VN ...</td>\n    </tr>\n    <tr>\n      <th>1</th>\n      <td>1</td>\n      <td>0</td>\n      <td>0</td>\n      <td>0</td>\n      <td>1</td>\n      <td>0</td>\n      <td>XUẤT KHẨU GẠO 8 THÁNG ĐẠT MỨC KỶ LỤC 8 tháng, ...</td>\n    </tr>\n    <tr>\n      <th>2</th>\n      <td>1</td>\n      <td>3</td>\n      <td>3</td>\n      <td>3</td>\n      <td>0</td>\n      <td>0</td>\n      <td>PHILIPPINES ĐÀM PHÁN MUA GẠO VIỆT NAM, ẤN ĐỘ Đ...</td>\n    </tr>\n    <tr>\n      <th>3</th>\n      <td>1</td>\n      <td>0</td>\n      <td>1</td>\n      <td>0</td>\n      <td>0</td>\n      <td>0</td>\n      <td>GIỮ THƯƠNG HIỆU GẠO VIỆT GIỮA BIẾN ĐỘNG LƯƠNG ...</td>\n    </tr>\n    <tr>\n      <th>4</th>\n      <td>1</td>\n      <td>3</td>\n      <td>0</td>\n      <td>3</td>\n      <td>0</td>\n      <td>0</td>\n      <td>GIÁ GẠO TĂNG NHANH, GIỚI BUÔN THẬN TRỌNG NHẬP ...</td>\n    </tr>\n    <tr>\n      <th>...</th>\n      <td>...</td>\n      <td>...</td>\n      <td>...</td>\n      <td>...</td>\n      <td>...</td>\n      <td>...</td>\n      <td>...</td>\n    </tr>\n    <tr>\n      <th>345</th>\n      <td>1</td>\n      <td>3</td>\n      <td>0</td>\n      <td>3</td>\n      <td>0</td>\n      <td>1</td>\n      <td>VIỆT NAM KHẲNG ĐỊNH LẠI CAM KẾT CUNG CẤP GẠO C...</td>\n    </tr>\n    <tr>\n      <th>346</th>\n      <td>1</td>\n      <td>3</td>\n      <td>0</td>\n      <td>0</td>\n      <td>0</td>\n      <td>1</td>\n      <td>GIÁ GẠO, LÚA MÌ THẾ GIỚI TĂNG CAO DO TÁC ĐỘNG ...</td>\n    </tr>\n    <tr>\n      <th>347</th>\n      <td>1</td>\n      <td>3</td>\n      <td>0</td>\n      <td>3</td>\n      <td>0</td>\n      <td>0</td>\n      <td>TRUNG QUỐC TĂNG NHẬP KHẨU GẠO VIỆT GẤP HƠN 8 L...</td>\n    </tr>\n    <tr>\n      <th>348</th>\n      <td>1</td>\n      <td>3</td>\n      <td>3</td>\n      <td>0</td>\n      <td>0</td>\n      <td>0</td>\n      <td>HÀN QUỐC SẼ ÁP DỤNG MỨC SUẤT THUẾ ƯU ĐÃI 5% CH...</td>\n    </tr>\n    <tr>\n      <th>349</th>\n      <td>1</td>\n      <td>3</td>\n      <td>0</td>\n      <td>3</td>\n      <td>0</td>\n      <td>1</td>\n      <td>GIÁN ĐOẠN NGUỒN CUNG LƯƠNG THỰC DO COVID-19, G...</td>\n    </tr>\n  </tbody>\n</table>\n<p>350 rows × 7 columns</p>\n</div>"
     },
     "execution_count": 8,
     "metadata": {},
     "output_type": "execute_result"
    }
   ],
   "source": [
    "df"
   ],
   "metadata": {
    "collapsed": false,
    "ExecuteTime": {
     "end_time": "2023-11-02T10:29:01.795912800Z",
     "start_time": "2023-11-02T10:29:01.666910900Z"
    }
   },
   "id": "614ebea8d0d4abde"
  },
  {
   "cell_type": "code",
   "execution_count": null,
   "outputs": [],
   "source": [],
   "metadata": {
    "collapsed": false
   },
   "id": "c49373fa5eb7e612"
  }
 ],
 "metadata": {
  "kernelspec": {
   "display_name": "Python 3",
   "language": "python",
   "name": "python3"
  },
  "language_info": {
   "codemirror_mode": {
    "name": "ipython",
    "version": 2
   },
   "file_extension": ".py",
   "mimetype": "text/x-python",
   "name": "python",
   "nbconvert_exporter": "python",
   "pygments_lexer": "ipython2",
   "version": "2.7.6"
  }
 },
 "nbformat": 4,
 "nbformat_minor": 5
}
