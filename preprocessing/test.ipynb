{
 "cells": [
  {
   "cell_type": "code",
   "execution_count": 1,
   "id": "initial_id",
   "metadata": {
    "collapsed": true,
    "ExecuteTime": {
     "end_time": "2023-11-04T02:26:20.191225Z",
     "start_time": "2023-11-04T02:26:17.513554400Z"
    }
   },
   "outputs": [],
   "source": [
    "import pandas as pd\n",
    "import os\n",
    "import re\n",
    "import numpy as np"
   ]
  },
  {
   "cell_type": "code",
   "execution_count": 126,
   "outputs": [],
   "source": [
    "df = pd.read_csv('../data/original_data/original_data.csv')\n",
    "\n"
   ],
   "metadata": {
    "collapsed": false,
    "ExecuteTime": {
     "end_time": "2023-11-04T05:03:52.261809900Z",
     "start_time": "2023-11-04T05:03:52.214809400Z"
    }
   },
   "id": "a5d43fb7ed243093"
  },
  {
   "cell_type": "markdown",
   "source": [],
   "metadata": {
    "collapsed": false
   },
   "id": "e7f778645df0d194"
  },
  {
   "cell_type": "code",
   "execution_count": 128,
   "outputs": [
    {
     "ename": "KeyboardInterrupt",
     "evalue": "",
     "output_type": "error",
     "traceback": [
      "\u001B[1;31m---------------------------------------------------------------------------\u001B[0m",
      "\u001B[1;31mKeyboardInterrupt\u001B[0m                         Traceback (most recent call last)",
      "Cell \u001B[1;32mIn[128], line 6\u001B[0m\n\u001B[0;32m      4\u001B[0m \u001B[38;5;66;03m# all_datasets = pd.read_csv(\"../datasets/data_original/Original-datasets.csv\")\u001B[39;00m\n\u001B[0;32m      5\u001B[0m \u001B[38;5;28;01mwhile\u001B[39;00m \u001B[38;5;28;01mTrue\u001B[39;00m:\n\u001B[1;32m----> 6\u001B[0m     train_set, test_set \u001B[38;5;241m=\u001B[39m \u001B[43msplit_train_test\u001B[49m\u001B[43m(\u001B[49m\u001B[43mdataframe\u001B[49m\u001B[38;5;241;43m=\u001B[39;49m\u001B[43mdf\u001B[49m\u001B[43m,\u001B[49m\u001B[43m \u001B[49m\u001B[43mtest_size\u001B[49m\u001B[38;5;241;43m=\u001B[39;49m\u001B[38;5;241;43m0.2\u001B[39;49m\u001B[43m)\u001B[49m\n\u001B[0;32m      7\u001B[0m     \u001B[38;5;66;03m# ratio of value != 0\u001B[39;00m\n\u001B[0;32m      8\u001B[0m     ratio \u001B[38;5;241m=\u001B[39m calc_ratio(df)         \n",
      "Cell \u001B[1;32mIn[126], line 3\u001B[0m, in \u001B[0;36msplit_train_test\u001B[1;34m(dataframe, test_size, seed)\u001B[0m\n\u001B[0;32m      2\u001B[0m \u001B[38;5;28;01mdef\u001B[39;00m \u001B[38;5;21msplit_train_test\u001B[39m(dataframe, test_size, seed\u001B[38;5;241m=\u001B[39m\u001B[38;5;241m19133022\u001B[39m):    \n\u001B[1;32m----> 3\u001B[0m     shuffled \u001B[38;5;241m=\u001B[39m np\u001B[38;5;241m.\u001B[39mrandom\u001B[38;5;241m.\u001B[39mdefault_rng(seed\u001B[38;5;241m=\u001B[39mseed)\u001B[38;5;241m.\u001B[39mpermutation(\u001B[38;5;28mlen\u001B[39m(dataframe))\n\u001B[0;32m      4\u001B[0m     num_test \u001B[38;5;241m=\u001B[39m \u001B[38;5;28mint\u001B[39m(test_size \u001B[38;5;241m*\u001B[39m \u001B[38;5;28mlen\u001B[39m(dataframe))\n\u001B[0;32m      5\u001B[0m     test_index \u001B[38;5;241m=\u001B[39m shuffled[:num_test]\n",
      "\u001B[1;31mKeyboardInterrupt\u001B[0m: "
     ]
    }
   ],
   "source": [
    "df = pd.read_csv(\"../data/original_data/original_data.csv\")    \n",
    "calc_ratio = lambda dataframe: (dataframe.iloc[:, :-1] != 0).sum() / len(dataframe)\n",
    "variance = lambda ratio_1, ratio_2, diff: np.all(((ratio_1 - ratio_2).abs() < diff).values) \n",
    "# all_datasets = pd.read_csv(\"../datasets/data_original/Original-datasets.csv\")\n",
    "while True:\n",
    "    train_set, test_set = split_train_test(dataframe=df, test_size=0.2)\n",
    "    # ratio of value != 0\n",
    "    ratio = calc_ratio(df)         \n",
    "    train_ratio = calc_ratio(train_set)\n",
    "    test_ratio = calc_ratio(test_set)    \n",
    "    condition_1 = variance(ratio, test_ratio, 0.002)\n",
    "    condition_2 = variance(ratio, train_ratio, 0.002)\n",
    "    if condition_1 and condition_2:\n",
    "        break    "
   ],
   "metadata": {
    "collapsed": false,
    "ExecuteTime": {
     "end_time": "2023-11-04T05:45:49.016505100Z",
     "start_time": "2023-11-04T05:04:08.267879200Z"
    }
   },
   "id": "614ebea8d0d4abde"
  },
  {
   "cell_type": "code",
   "execution_count": 30,
   "outputs": [
    {
     "data": {
      "text/plain": "category     0.997143\nprice        0.760000\nGov          0.305714\nmarket       0.334286\nintrinsic    0.288571\nextrinsic    0.180000\ndtype: float64"
     },
     "execution_count": 30,
     "metadata": {},
     "output_type": "execute_result"
    }
   ],
   "source": [
    "# print(\"Samples train: \", len(train_set))\n",
    "# print(\"Samples val: \", len(test_set))\n",
    "# # Save to csv\n",
    "# train_set.to_csv('../data/training_data/train_datasets.csv')\n",
    "# test_set.to_csv('../data/training_data/test_datasets.csv')\n",
    "# print(\"save test & train datasets successfully\")"
   ],
   "metadata": {
    "collapsed": false,
    "ExecuteTime": {
     "end_time": "2023-11-04T03:48:37.484922100Z",
     "start_time": "2023-11-04T03:48:37.356863100Z"
    }
   },
   "id": "c49373fa5eb7e612"
  }
 ],
 "metadata": {
  "kernelspec": {
   "display_name": "Python 3",
   "language": "python",
   "name": "python3"
  },
  "language_info": {
   "codemirror_mode": {
    "name": "ipython",
    "version": 2
   },
   "file_extension": ".py",
   "mimetype": "text/x-python",
   "name": "python",
   "nbconvert_exporter": "python",
   "pygments_lexer": "ipython2",
   "version": "2.7.6"
  }
 },
 "nbformat": 4,
 "nbformat_minor": 5
}
